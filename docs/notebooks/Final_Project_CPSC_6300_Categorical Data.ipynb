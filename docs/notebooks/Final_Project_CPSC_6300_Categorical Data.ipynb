{
 "cells": [
  {
   "cell_type": "markdown",
   "metadata": {},
   "source": [
    "# CPSC6300 Final Project - Socioeconomic Impacts on Healthcare Access Trends"
   ]
  },
  {
   "cell_type": "code",
   "execution_count": 1,
   "metadata": {},
   "outputs": [],
   "source": [
    "#import modules\n",
    "#These different modules will help to manipulate and visualize the data \n",
    "\n",
    "import pandas as pd\n",
    "import numpy as np\n",
    "import matplotlib.pyplot as plt\n",
    "import seaborn as sns"
   ]
  },
  {
   "cell_type": "markdown",
   "metadata": {},
   "source": [
    "The 5 W Questions of this project: \n",
    "\n",
    "1. WHY did you choose the topic? What interests you about it?  Do you have an opinion about the issues involved?\n",
    "\n",
    "As bioengineers, we are interested in how demographic factors may affect the access to healthcare and the quality of healthcare people may have access to and recieve. Of course, many resources have been devoted to these investigations before and some of the correlations are well understood, but we are interested to see if a random dataset that was not specfically devoted to these investigations could elucidate the same information. We feel that this information is important for us to understand as future healthcare workers. Personally, we both feel as though this information is vital to understanding access and quality of care and will be important in the efforts to improve these standards for all people. \n",
    "\n",
    "2. WHO are the information providers on this topic?  Who might publish information about it?  Who is affected by the topic?  Do you know of organizations or institutions affiliated with the topic?\n",
    "\n",
    "There are a few major organizations devoted to the collection and publication of this kind of data. For example, the Center for Disease Control (CDC) and the World Health Organization (WHO) are two major organizations that collect and publish data regarding healthcare information. Specifically, the CDC publishes the National Health and Nutrition Examination Survey biannually and we used this data for our project. While this data affects all people, it may have a more significant impact on healthcare providers and those who are in charge of healthcare legislation and policy. \n",
    "\n",
    "3. WHAT are the major questions for this topic?  Is there a debate about the topic? Are there a range of issues and viewpoints to consider?\n",
    "\n",
    "A major question surrounding our investigations is how different demographic factors affect the access to care and quality of care that people recieve. While there are not specific debates surrounding this information, it is important for this data to be collected and analyzed in order to visualize and understand healthcare trends over time. \n",
    "\n",
    "\n",
    "4. WHERE is your topic important: at the local, national or international level?  Arethere specific places affected by the topic?\n",
    "\n",
    "Our topic is important at the national level in the United States, as the survey was conducted by government funding and surveyed US residents. The survey did not contain geographical location data, and the distribution of survey participants across the US is unclear. It may be important in future studies to record location to get a better understanding of how geographical location impacts the information recorded in the study. However, it is likely that this information is withheld from public datasets due to privacy regulations.  \n",
    "\n",
    "5. WHEN is/was your topic important?  Is it a current event or an historical issue? Do you want to compare your topic by time periods?\n",
    "\n",
    "This topic is a current issue that is constantly evolving. It would be useful to track this information over time to visualize how healthcare in the US evolves and how we can work to improve it. \n",
    "\n"
   ]
  },
  {
   "cell_type": "markdown",
   "metadata": {},
   "source": [
    "# Working with Demographics - Clean and Visualize Data"
   ]
  },
  {
   "cell_type": "markdown",
   "metadata": {},
   "source": [
    "In the first step of this project, we first need to import the dataset. Our first focus will be to understand the demographics \n",
    "of the dataset, and we must import the data from the CDC and work to clean it. "
   ]
  },
  {
   "cell_type": "code",
   "execution_count": 2,
   "metadata": {},
   "outputs": [],
   "source": [
    "# Get the Data \n",
    "#This data breaks down demographic information including race, gender, age, and much more \n",
    "demo = pd.read_csv(r'https://raw.githubusercontent.com/cdhumme/notebooks/master/demographic.csv')\n"
   ]
  },
  {
   "cell_type": "code",
   "execution_count": 3,
   "metadata": {},
   "outputs": [
    {
     "data": {
      "text/html": [
       "<div>\n",
       "<style scoped>\n",
       "    .dataframe tbody tr th:only-of-type {\n",
       "        vertical-align: middle;\n",
       "    }\n",
       "\n",
       "    .dataframe tbody tr th {\n",
       "        vertical-align: top;\n",
       "    }\n",
       "\n",
       "    .dataframe thead th {\n",
       "        text-align: right;\n",
       "    }\n",
       "</style>\n",
       "<table border=\"1\" class=\"dataframe\">\n",
       "  <thead>\n",
       "    <tr style=\"text-align: right;\">\n",
       "      <th></th>\n",
       "      <th>SEQN</th>\n",
       "      <th>SDDSRVYR</th>\n",
       "      <th>RIDSTATR</th>\n",
       "      <th>RIAGENDR</th>\n",
       "      <th>RIDAGEYR</th>\n",
       "      <th>RIDAGEMN</th>\n",
       "      <th>RIDRETH1</th>\n",
       "      <th>RIDRETH3</th>\n",
       "      <th>RIDEXMON</th>\n",
       "      <th>RIDEXAGM</th>\n",
       "      <th>...</th>\n",
       "      <th>DMDHREDU</th>\n",
       "      <th>DMDHRMAR</th>\n",
       "      <th>DMDHSEDU</th>\n",
       "      <th>WTINT2YR</th>\n",
       "      <th>WTMEC2YR</th>\n",
       "      <th>SDMVPSU</th>\n",
       "      <th>SDMVSTRA</th>\n",
       "      <th>INDHHIN2</th>\n",
       "      <th>INDFMIN2</th>\n",
       "      <th>INDFMPIR</th>\n",
       "    </tr>\n",
       "  </thead>\n",
       "  <tbody>\n",
       "    <tr>\n",
       "      <th>0</th>\n",
       "      <td>73557</td>\n",
       "      <td>8</td>\n",
       "      <td>2</td>\n",
       "      <td>1</td>\n",
       "      <td>69</td>\n",
       "      <td>NaN</td>\n",
       "      <td>4</td>\n",
       "      <td>4</td>\n",
       "      <td>1.0</td>\n",
       "      <td>NaN</td>\n",
       "      <td>...</td>\n",
       "      <td>3.0</td>\n",
       "      <td>4.0</td>\n",
       "      <td>NaN</td>\n",
       "      <td>13281.237386</td>\n",
       "      <td>13481.042095</td>\n",
       "      <td>1</td>\n",
       "      <td>112</td>\n",
       "      <td>4.0</td>\n",
       "      <td>4.0</td>\n",
       "      <td>0.84</td>\n",
       "    </tr>\n",
       "    <tr>\n",
       "      <th>1</th>\n",
       "      <td>73558</td>\n",
       "      <td>8</td>\n",
       "      <td>2</td>\n",
       "      <td>1</td>\n",
       "      <td>54</td>\n",
       "      <td>NaN</td>\n",
       "      <td>3</td>\n",
       "      <td>3</td>\n",
       "      <td>1.0</td>\n",
       "      <td>NaN</td>\n",
       "      <td>...</td>\n",
       "      <td>3.0</td>\n",
       "      <td>1.0</td>\n",
       "      <td>1.0</td>\n",
       "      <td>23682.057386</td>\n",
       "      <td>24471.769625</td>\n",
       "      <td>1</td>\n",
       "      <td>108</td>\n",
       "      <td>7.0</td>\n",
       "      <td>7.0</td>\n",
       "      <td>1.78</td>\n",
       "    </tr>\n",
       "    <tr>\n",
       "      <th>2</th>\n",
       "      <td>73559</td>\n",
       "      <td>8</td>\n",
       "      <td>2</td>\n",
       "      <td>1</td>\n",
       "      <td>72</td>\n",
       "      <td>NaN</td>\n",
       "      <td>3</td>\n",
       "      <td>3</td>\n",
       "      <td>2.0</td>\n",
       "      <td>NaN</td>\n",
       "      <td>...</td>\n",
       "      <td>4.0</td>\n",
       "      <td>1.0</td>\n",
       "      <td>3.0</td>\n",
       "      <td>57214.803319</td>\n",
       "      <td>57193.285376</td>\n",
       "      <td>1</td>\n",
       "      <td>109</td>\n",
       "      <td>10.0</td>\n",
       "      <td>10.0</td>\n",
       "      <td>4.51</td>\n",
       "    </tr>\n",
       "    <tr>\n",
       "      <th>3</th>\n",
       "      <td>73560</td>\n",
       "      <td>8</td>\n",
       "      <td>2</td>\n",
       "      <td>1</td>\n",
       "      <td>9</td>\n",
       "      <td>NaN</td>\n",
       "      <td>3</td>\n",
       "      <td>3</td>\n",
       "      <td>1.0</td>\n",
       "      <td>119.0</td>\n",
       "      <td>...</td>\n",
       "      <td>3.0</td>\n",
       "      <td>1.0</td>\n",
       "      <td>4.0</td>\n",
       "      <td>55201.178592</td>\n",
       "      <td>55766.512438</td>\n",
       "      <td>2</td>\n",
       "      <td>109</td>\n",
       "      <td>9.0</td>\n",
       "      <td>9.0</td>\n",
       "      <td>2.52</td>\n",
       "    </tr>\n",
       "    <tr>\n",
       "      <th>4</th>\n",
       "      <td>73561</td>\n",
       "      <td>8</td>\n",
       "      <td>2</td>\n",
       "      <td>2</td>\n",
       "      <td>73</td>\n",
       "      <td>NaN</td>\n",
       "      <td>3</td>\n",
       "      <td>3</td>\n",
       "      <td>1.0</td>\n",
       "      <td>NaN</td>\n",
       "      <td>...</td>\n",
       "      <td>5.0</td>\n",
       "      <td>1.0</td>\n",
       "      <td>5.0</td>\n",
       "      <td>63709.667069</td>\n",
       "      <td>65541.871229</td>\n",
       "      <td>2</td>\n",
       "      <td>116</td>\n",
       "      <td>15.0</td>\n",
       "      <td>15.0</td>\n",
       "      <td>5.00</td>\n",
       "    </tr>\n",
       "  </tbody>\n",
       "</table>\n",
       "<p>5 rows × 47 columns</p>\n",
       "</div>"
      ],
      "text/plain": [
       "    SEQN  SDDSRVYR  RIDSTATR  RIAGENDR  RIDAGEYR  RIDAGEMN  RIDRETH1  \\\n",
       "0  73557         8         2         1        69       NaN         4   \n",
       "1  73558         8         2         1        54       NaN         3   \n",
       "2  73559         8         2         1        72       NaN         3   \n",
       "3  73560         8         2         1         9       NaN         3   \n",
       "4  73561         8         2         2        73       NaN         3   \n",
       "\n",
       "   RIDRETH3  RIDEXMON  RIDEXAGM  ...  DMDHREDU  DMDHRMAR  DMDHSEDU  \\\n",
       "0         4       1.0       NaN  ...       3.0       4.0       NaN   \n",
       "1         3       1.0       NaN  ...       3.0       1.0       1.0   \n",
       "2         3       2.0       NaN  ...       4.0       1.0       3.0   \n",
       "3         3       1.0     119.0  ...       3.0       1.0       4.0   \n",
       "4         3       1.0       NaN  ...       5.0       1.0       5.0   \n",
       "\n",
       "       WTINT2YR      WTMEC2YR  SDMVPSU  SDMVSTRA  INDHHIN2  INDFMIN2  INDFMPIR  \n",
       "0  13281.237386  13481.042095        1       112       4.0       4.0      0.84  \n",
       "1  23682.057386  24471.769625        1       108       7.0       7.0      1.78  \n",
       "2  57214.803319  57193.285376        1       109      10.0      10.0      4.51  \n",
       "3  55201.178592  55766.512438        2       109       9.0       9.0      2.52  \n",
       "4  63709.667069  65541.871229        2       116      15.0      15.0      5.00  \n",
       "\n",
       "[5 rows x 47 columns]"
      ]
     },
     "execution_count": 3,
     "metadata": {},
     "output_type": "execute_result"
    }
   ],
   "source": [
    "#vizualize the data\n",
    "demo.head()\n"
   ]
  },
  {
   "cell_type": "markdown",
   "metadata": {},
   "source": [
    "This allows us to see that the categorical information contained in this dataset has been encoded using numbers with each SEQN number representing an individual who participated in the study. In addition, we can see that the names of each column are acronyms of a longer title and they are not intuitively clear to the user. In the next steps, we must work to rename the columns for clarity. "
   ]
  },
  {
   "cell_type": "markdown",
   "metadata": {},
   "source": [
    "Below is a dictionary of the encoded column names that our dataset will choose to focus on: \n",
    "\n",
    "\n",
    "\n",
    "RIDAGEYR: Age in years, at the time of the screening interview, is reported for survey participants between the ages of 1 and 79 years of age. All responses of participants aged 80 years and older are coded as ‘80.’ The reporting of age in single years for adults 80 years and older was determined to be a disclosure risk. In NHANES 2013-2014, the weighted mean age for participants 80 years and older is 84 years. RIDAGEYR was calculated based on the participant’s date of birth. In rare cases, the actual date of birth was missing but the participant’s age in years was provided, then the reported age was used.\n",
    "\n",
    "RIDRETH3: This is the race-ethnicity variable included in the demographics file since the 2011-2012 survey cycle to accommodate the oversample of non-Hispanic Asian. It was derived from responses to the survey questions on race and Hispanic origin. Respondents who self-identified as “Mexican American” were coded as such (i.e., RIDRETH3=1) regardless of their other race-ethnicity identities.  Otherwise, self-identified “Hispanic” ethnicity would result in code “2, Other Hispanic” in the RIDRETH3 variable. All other non-Hispanic participants would then be categorized based on their self-reported races: non-Hispanic white (RIDRETH3=3), non-Hispanic black (RIDRETH3=4), non-Hispanic Asian (RIDRETH3=6), and other non-Hispanic races including non-Hispanic multiracial (RIDRETH3=7).  Code “5” was not used in RIDRETH3.\n",
    "\n",
    "DMDBORN4: Due to the concerns of disclosure risk, starting in 2011, country of birth was recoded into two categories: 1) Born in 50 U.S. states or Washington, DC; and 2) Born in other countries, including U.S. territories.\n",
    "\n",
    "DMDCITZN: Citizenship status is reported using two codes: 1) Citizen by birth or naturalization; or 2) Not a citizen of the U.S. Persons who were born in the U.S. or U.S. territories who acquired citizenship at birth were coded as U.S. citizens.\n",
    "\n",
    "DMDMARTL: The marital status question was asked of persons 14 years of age and older. Due to disclosure risks, marital status is only released for persons 20 years of age and older.\n",
    "\n",
    "DMDYRSUS: This variable is the number of years the participant has lived in the United States. Participants who were born outside the U.S. were asked the month and year when they came to the U.S. to live (DMQ.160). A small number of records were imputed because the participant did not report the month of their arrival. A month value of 7 (July) was used to impute DMDYRSUS for these respondents. The responses to the question were recoded into 9 categories ranging from less than one year to 50 years or more.\n",
    "\n",
    "DMDEDUC2: This variable is the highest grade or level of education completed by adults 20 years and older. The response categories are: less than 9th grade education, 9-11th grade education (includes 12th grade and no diploma), High school graduate/GED, some college or associates (AA) degree, and college graduate or higher.\n",
    "\n",
    "INDFMPIR: This variable is the ratio of family income to poverty. The Department of Health and Human Services (HHS) poverty guidelines were used as the poverty measure to calculate this ratio. INDFMPIR was calculated by dividing family (or individual) income by the poverty guidelines specific to the survey year. The value was not computed if the respondent only reported income as < $20,000 or ≥ $20,000. If family income was reported as a more detailed category, the midpoint of the range was used to compute the ratio. Values at or above 5.00 were coded as 5.00 or more because of disclosure concerns. The values were not computed if the income data was missing.\n",
    "\n",
    "INDHHIN2: This variable indicates the total annual household income in dollar ranges. If a household was comprised of a single family or individual, the reported family income was used as household income as well. When more than one family, or one or more unrelated individuals, or a combination of a family and unrelated individuals resided in the household, the total household income was calculated by the sum of all reported family and/or individual income values. Please see above notes on variable INDFMIN2 for details on how the amounts of family income were determined.\n",
    "\n"
   ]
  },
  {
   "cell_type": "markdown",
   "metadata": {},
   "source": [
    "Using the above categories, we worked to clean the data to include only these specific datapoints, as we were specifically \n",
    "interested in topics like country of birth, income, and poverty. "
   ]
  },
  {
   "cell_type": "code",
   "execution_count": 4,
   "metadata": {},
   "outputs": [
    {
     "data": {
      "text/html": [
       "<div>\n",
       "<style scoped>\n",
       "    .dataframe tbody tr th:only-of-type {\n",
       "        vertical-align: middle;\n",
       "    }\n",
       "\n",
       "    .dataframe tbody tr th {\n",
       "        vertical-align: top;\n",
       "    }\n",
       "\n",
       "    .dataframe thead th {\n",
       "        text-align: right;\n",
       "    }\n",
       "</style>\n",
       "<table border=\"1\" class=\"dataframe\">\n",
       "  <thead>\n",
       "    <tr style=\"text-align: right;\">\n",
       "      <th></th>\n",
       "      <th>SEQN</th>\n",
       "      <th>RIAGENDR</th>\n",
       "      <th>RIDRETH3</th>\n",
       "      <th>DMDBORN4</th>\n",
       "      <th>DMDCITZN</th>\n",
       "      <th>DMDYRSUS</th>\n",
       "      <th>DMDEDUC2</th>\n",
       "      <th>DMDMARTL</th>\n",
       "      <th>INDHHIN2</th>\n",
       "      <th>INDFMPIR</th>\n",
       "    </tr>\n",
       "  </thead>\n",
       "  <tbody>\n",
       "    <tr>\n",
       "      <th>0</th>\n",
       "      <td>73557</td>\n",
       "      <td>1</td>\n",
       "      <td>4</td>\n",
       "      <td>1</td>\n",
       "      <td>1.0</td>\n",
       "      <td>NaN</td>\n",
       "      <td>3.0</td>\n",
       "      <td>4.0</td>\n",
       "      <td>4.0</td>\n",
       "      <td>0.84</td>\n",
       "    </tr>\n",
       "    <tr>\n",
       "      <th>1</th>\n",
       "      <td>73558</td>\n",
       "      <td>1</td>\n",
       "      <td>3</td>\n",
       "      <td>1</td>\n",
       "      <td>1.0</td>\n",
       "      <td>NaN</td>\n",
       "      <td>3.0</td>\n",
       "      <td>1.0</td>\n",
       "      <td>7.0</td>\n",
       "      <td>1.78</td>\n",
       "    </tr>\n",
       "    <tr>\n",
       "      <th>2</th>\n",
       "      <td>73559</td>\n",
       "      <td>1</td>\n",
       "      <td>3</td>\n",
       "      <td>1</td>\n",
       "      <td>1.0</td>\n",
       "      <td>NaN</td>\n",
       "      <td>4.0</td>\n",
       "      <td>1.0</td>\n",
       "      <td>10.0</td>\n",
       "      <td>4.51</td>\n",
       "    </tr>\n",
       "    <tr>\n",
       "      <th>3</th>\n",
       "      <td>73560</td>\n",
       "      <td>1</td>\n",
       "      <td>3</td>\n",
       "      <td>1</td>\n",
       "      <td>1.0</td>\n",
       "      <td>NaN</td>\n",
       "      <td>NaN</td>\n",
       "      <td>NaN</td>\n",
       "      <td>9.0</td>\n",
       "      <td>2.52</td>\n",
       "    </tr>\n",
       "    <tr>\n",
       "      <th>4</th>\n",
       "      <td>73561</td>\n",
       "      <td>2</td>\n",
       "      <td>3</td>\n",
       "      <td>1</td>\n",
       "      <td>1.0</td>\n",
       "      <td>NaN</td>\n",
       "      <td>5.0</td>\n",
       "      <td>1.0</td>\n",
       "      <td>15.0</td>\n",
       "      <td>5.00</td>\n",
       "    </tr>\n",
       "    <tr>\n",
       "      <th>...</th>\n",
       "      <td>...</td>\n",
       "      <td>...</td>\n",
       "      <td>...</td>\n",
       "      <td>...</td>\n",
       "      <td>...</td>\n",
       "      <td>...</td>\n",
       "      <td>...</td>\n",
       "      <td>...</td>\n",
       "      <td>...</td>\n",
       "      <td>...</td>\n",
       "    </tr>\n",
       "    <tr>\n",
       "      <th>10170</th>\n",
       "      <td>83727</td>\n",
       "      <td>1</td>\n",
       "      <td>2</td>\n",
       "      <td>1</td>\n",
       "      <td>1.0</td>\n",
       "      <td>NaN</td>\n",
       "      <td>5.0</td>\n",
       "      <td>5.0</td>\n",
       "      <td>77.0</td>\n",
       "      <td>NaN</td>\n",
       "    </tr>\n",
       "    <tr>\n",
       "      <th>10171</th>\n",
       "      <td>83728</td>\n",
       "      <td>2</td>\n",
       "      <td>1</td>\n",
       "      <td>1</td>\n",
       "      <td>1.0</td>\n",
       "      <td>NaN</td>\n",
       "      <td>NaN</td>\n",
       "      <td>NaN</td>\n",
       "      <td>8.0</td>\n",
       "      <td>1.95</td>\n",
       "    </tr>\n",
       "    <tr>\n",
       "      <th>10172</th>\n",
       "      <td>83729</td>\n",
       "      <td>2</td>\n",
       "      <td>4</td>\n",
       "      <td>2</td>\n",
       "      <td>1.0</td>\n",
       "      <td>6.0</td>\n",
       "      <td>5.0</td>\n",
       "      <td>3.0</td>\n",
       "      <td>7.0</td>\n",
       "      <td>3.66</td>\n",
       "    </tr>\n",
       "    <tr>\n",
       "      <th>10173</th>\n",
       "      <td>83730</td>\n",
       "      <td>1</td>\n",
       "      <td>2</td>\n",
       "      <td>1</td>\n",
       "      <td>1.0</td>\n",
       "      <td>NaN</td>\n",
       "      <td>NaN</td>\n",
       "      <td>NaN</td>\n",
       "      <td>6.0</td>\n",
       "      <td>1.05</td>\n",
       "    </tr>\n",
       "    <tr>\n",
       "      <th>10174</th>\n",
       "      <td>83731</td>\n",
       "      <td>1</td>\n",
       "      <td>6</td>\n",
       "      <td>1</td>\n",
       "      <td>1.0</td>\n",
       "      <td>NaN</td>\n",
       "      <td>NaN</td>\n",
       "      <td>NaN</td>\n",
       "      <td>15.0</td>\n",
       "      <td>5.00</td>\n",
       "    </tr>\n",
       "  </tbody>\n",
       "</table>\n",
       "<p>10175 rows × 10 columns</p>\n",
       "</div>"
      ],
      "text/plain": [
       "        SEQN  RIAGENDR  RIDRETH3  DMDBORN4  DMDCITZN  DMDYRSUS  DMDEDUC2  \\\n",
       "0      73557         1         4         1       1.0       NaN       3.0   \n",
       "1      73558         1         3         1       1.0       NaN       3.0   \n",
       "2      73559         1         3         1       1.0       NaN       4.0   \n",
       "3      73560         1         3         1       1.0       NaN       NaN   \n",
       "4      73561         2         3         1       1.0       NaN       5.0   \n",
       "...      ...       ...       ...       ...       ...       ...       ...   \n",
       "10170  83727         1         2         1       1.0       NaN       5.0   \n",
       "10171  83728         2         1         1       1.0       NaN       NaN   \n",
       "10172  83729         2         4         2       1.0       6.0       5.0   \n",
       "10173  83730         1         2         1       1.0       NaN       NaN   \n",
       "10174  83731         1         6         1       1.0       NaN       NaN   \n",
       "\n",
       "       DMDMARTL  INDHHIN2  INDFMPIR  \n",
       "0           4.0       4.0      0.84  \n",
       "1           1.0       7.0      1.78  \n",
       "2           1.0      10.0      4.51  \n",
       "3           NaN       9.0      2.52  \n",
       "4           1.0      15.0      5.00  \n",
       "...         ...       ...       ...  \n",
       "10170       5.0      77.0       NaN  \n",
       "10171       NaN       8.0      1.95  \n",
       "10172       3.0       7.0      3.66  \n",
       "10173       NaN       6.0      1.05  \n",
       "10174       NaN      15.0      5.00  \n",
       "\n",
       "[10175 rows x 10 columns]"
      ]
     },
     "execution_count": 4,
     "metadata": {},
     "output_type": "execute_result"
    }
   ],
   "source": [
    "#Clean the data to include only specific categories, as outline above\n",
    "demo.drop(demo.columns.difference(['SEQN','RIAGENDR','RIDRETH3', 'DMDBORN4', 'DMDCITZN', 'DMDMARTL', 'DMDYRSUS', 'DMDEDUC2', 'INDFMPIR', 'INDHHIN2'  ]), 1, inplace=True)\n",
    "demo\n",
    "\n"
   ]
  },
  {
   "cell_type": "markdown",
   "metadata": {},
   "source": [
    "This cleaned version of the data shows us that there are a few columns with a significant amount of missing data. Below, we worked to determine how many datapoints were missing to see if the column should be removed as a whole. "
   ]
  },
  {
   "cell_type": "code",
   "execution_count": 5,
   "metadata": {},
   "outputs": [
    {
     "name": "stdout",
     "output_type": "stream",
     "text": [
      "<class 'pandas.core.frame.DataFrame'>\n",
      "RangeIndex: 10175 entries, 0 to 10174\n",
      "Data columns (total 10 columns):\n",
      " #   Column    Non-Null Count  Dtype  \n",
      "---  ------    --------------  -----  \n",
      " 0   SEQN      10175 non-null  int64  \n",
      " 1   RIAGENDR  10175 non-null  int64  \n",
      " 2   RIDRETH3  10175 non-null  int64  \n",
      " 3   DMDBORN4  10175 non-null  int64  \n",
      " 4   DMDCITZN  10171 non-null  float64\n",
      " 5   DMDYRSUS  1908 non-null   float64\n",
      " 6   DMDEDUC2  5769 non-null   float64\n",
      " 7   DMDMARTL  5769 non-null   float64\n",
      " 8   INDHHIN2  10042 non-null  float64\n",
      " 9   INDFMPIR  9390 non-null   float64\n",
      "dtypes: float64(6), int64(4)\n",
      "memory usage: 795.0 KB\n"
     ]
    }
   ],
   "source": [
    "#Find out how many missing values are in columns \n",
    "demo.info()"
   ]
  },
  {
   "cell_type": "markdown",
   "metadata": {},
   "source": [
    "Based on these results, it looks like DMDYRSUS (years in the US), DMDEDUC2 (education),\n",
    "and DMDMARTL (marital status) have a lot of missing information. DMDYRSUS has the most missing information, so we chose to drop this column from the dataset"
   ]
  },
  {
   "cell_type": "code",
   "execution_count": 6,
   "metadata": {},
   "outputs": [],
   "source": [
    "#Drop DMDYRSUS from the dataset\n",
    "demo.drop('DMDYRSUS', inplace = True, axis = 1)\n"
   ]
  },
  {
   "cell_type": "markdown",
   "metadata": {},
   "source": [
    "The next step in cleaning the data is to rid of rows that have missing information. The survery conducted by the CDC gave participants the option to refuse to answer questions or to chose \"I don't know\". This information will not be useful in our analysis and we will remove replace these values with \"NaN\" for clarity"
   ]
  },
  {
   "cell_type": "code",
   "execution_count": 7,
   "metadata": {},
   "outputs": [],
   "source": [
    "#Remove rows with missing or refused data. \n",
    "# Refused data is often denoted by 7,9,77,99 or '.'\n",
    "\n",
    "demo['DMDBORN4'] = demo['DMDBORN4'].replace(77, np.NaN )\n",
    "demo['DMDBORN4'] = demo['DMDBORN4'].replace(99, np.NaN )\n",
    "demo['DMDCITZN'] = demo['DMDCITZN'].replace(9, np.NaN )\n",
    "demo['DMDCITZN'] = demo['DMDCITZN'].replace(7, np.NaN )\n",
    "demo['DMDEDUC2'] = demo['DMDEDUC2'].replace(9, np.NaN )\n",
    "demo['DMDEDUC2'] = demo['DMDEDUC2'].replace(7, np.NaN )\n",
    "demo['DMDMARTL'] = demo['DMDMARTL'].replace(77, np.NaN )\n",
    "demo['DMDMARTL'] = demo['DMDMARTL'].replace(99, np.NaN )\n",
    "demo['INDHHIN2'] = demo['INDHHIN2'].replace(77, np.NaN )\n",
    "demo['INDHHIN2'] = demo['INDHHIN2'].replace(99, np.NaN )\n",
    "demo['INDHHIN2'] = demo['INDHHIN2'].replace(12, np.NaN )\n",
    "demo['INDHHIN2'] = demo['INDHHIN2'].replace(13, np.NaN )\n"
   ]
  },
  {
   "cell_type": "markdown",
   "metadata": {},
   "source": [
    "In order to work with this data, it may be beneficial to have two versions of the dataset, one with numerical and one with categorical data. For graphing and vizualization purposes, it would be useful to have the data in categories instead of enocded into integers so that proper category titles can be vizualized. We will work to replace the integer values with categorical values.  "
   ]
  },
  {
   "cell_type": "code",
   "execution_count": 8,
   "metadata": {},
   "outputs": [
    {
     "data": {
      "text/html": [
       "<div>\n",
       "<style scoped>\n",
       "    .dataframe tbody tr th:only-of-type {\n",
       "        vertical-align: middle;\n",
       "    }\n",
       "\n",
       "    .dataframe tbody tr th {\n",
       "        vertical-align: top;\n",
       "    }\n",
       "\n",
       "    .dataframe thead th {\n",
       "        text-align: right;\n",
       "    }\n",
       "</style>\n",
       "<table border=\"1\" class=\"dataframe\">\n",
       "  <thead>\n",
       "    <tr style=\"text-align: right;\">\n",
       "      <th></th>\n",
       "      <th>ID Number</th>\n",
       "      <th>Gender</th>\n",
       "      <th>Race</th>\n",
       "      <th>Country of Birth</th>\n",
       "      <th>Citizenship</th>\n",
       "      <th>Education</th>\n",
       "      <th>Marital</th>\n",
       "      <th>Income</th>\n",
       "      <th>Poverty</th>\n",
       "    </tr>\n",
       "  </thead>\n",
       "  <tbody>\n",
       "    <tr>\n",
       "      <th>0</th>\n",
       "      <td>73557</td>\n",
       "      <td>Male</td>\n",
       "      <td>Black</td>\n",
       "      <td>United States</td>\n",
       "      <td>Citizen by birth / naturalization</td>\n",
       "      <td>High school graduate/GED or equivalent</td>\n",
       "      <td>Separated</td>\n",
       "      <td>$15,000 to $19,999</td>\n",
       "      <td>0.84</td>\n",
       "    </tr>\n",
       "    <tr>\n",
       "      <th>1</th>\n",
       "      <td>73558</td>\n",
       "      <td>Male</td>\n",
       "      <td>White</td>\n",
       "      <td>United States</td>\n",
       "      <td>Citizen by birth / naturalization</td>\n",
       "      <td>High school graduate/GED or equivalent</td>\n",
       "      <td>Married</td>\n",
       "      <td>$35,000 to $44,999</td>\n",
       "      <td>1.78</td>\n",
       "    </tr>\n",
       "    <tr>\n",
       "      <th>2</th>\n",
       "      <td>73559</td>\n",
       "      <td>Male</td>\n",
       "      <td>White</td>\n",
       "      <td>United States</td>\n",
       "      <td>Citizen by birth / naturalization</td>\n",
       "      <td>Some college or AA degree</td>\n",
       "      <td>Married</td>\n",
       "      <td>$65,000 to $74,999</td>\n",
       "      <td>4.51</td>\n",
       "    </tr>\n",
       "    <tr>\n",
       "      <th>3</th>\n",
       "      <td>73560</td>\n",
       "      <td>Male</td>\n",
       "      <td>White</td>\n",
       "      <td>United States</td>\n",
       "      <td>Citizen by birth / naturalization</td>\n",
       "      <td>NaN</td>\n",
       "      <td>NaN</td>\n",
       "      <td>$55,000 to $64,999</td>\n",
       "      <td>2.52</td>\n",
       "    </tr>\n",
       "    <tr>\n",
       "      <th>4</th>\n",
       "      <td>73561</td>\n",
       "      <td>Female</td>\n",
       "      <td>White</td>\n",
       "      <td>United States</td>\n",
       "      <td>Citizen by birth / naturalization</td>\n",
       "      <td>College graduate or above</td>\n",
       "      <td>Married</td>\n",
       "      <td>$100,000 and Over</td>\n",
       "      <td>5.00</td>\n",
       "    </tr>\n",
       "    <tr>\n",
       "      <th>...</th>\n",
       "      <td>...</td>\n",
       "      <td>...</td>\n",
       "      <td>...</td>\n",
       "      <td>...</td>\n",
       "      <td>...</td>\n",
       "      <td>...</td>\n",
       "      <td>...</td>\n",
       "      <td>...</td>\n",
       "      <td>...</td>\n",
       "    </tr>\n",
       "    <tr>\n",
       "      <th>10170</th>\n",
       "      <td>83727</td>\n",
       "      <td>Male</td>\n",
       "      <td>Other Hispanic</td>\n",
       "      <td>United States</td>\n",
       "      <td>Citizen by birth / naturalization</td>\n",
       "      <td>College graduate or above</td>\n",
       "      <td>Never Married</td>\n",
       "      <td>NaN</td>\n",
       "      <td>NaN</td>\n",
       "    </tr>\n",
       "    <tr>\n",
       "      <th>10171</th>\n",
       "      <td>83728</td>\n",
       "      <td>Female</td>\n",
       "      <td>Mexican-American</td>\n",
       "      <td>United States</td>\n",
       "      <td>Citizen by birth / naturalization</td>\n",
       "      <td>NaN</td>\n",
       "      <td>NaN</td>\n",
       "      <td>$45,000 to $54,999</td>\n",
       "      <td>1.95</td>\n",
       "    </tr>\n",
       "    <tr>\n",
       "      <th>10172</th>\n",
       "      <td>83729</td>\n",
       "      <td>Female</td>\n",
       "      <td>Black</td>\n",
       "      <td>Other Country</td>\n",
       "      <td>Citizen by birth / naturalization</td>\n",
       "      <td>College graduate or above</td>\n",
       "      <td>Divorced</td>\n",
       "      <td>$35,000 to $44,999</td>\n",
       "      <td>3.66</td>\n",
       "    </tr>\n",
       "    <tr>\n",
       "      <th>10173</th>\n",
       "      <td>83730</td>\n",
       "      <td>Male</td>\n",
       "      <td>Other Hispanic</td>\n",
       "      <td>United States</td>\n",
       "      <td>Citizen by birth / naturalization</td>\n",
       "      <td>NaN</td>\n",
       "      <td>NaN</td>\n",
       "      <td>$25,000 to $34,999</td>\n",
       "      <td>1.05</td>\n",
       "    </tr>\n",
       "    <tr>\n",
       "      <th>10174</th>\n",
       "      <td>83731</td>\n",
       "      <td>Male</td>\n",
       "      <td>Asian</td>\n",
       "      <td>United States</td>\n",
       "      <td>Citizen by birth / naturalization</td>\n",
       "      <td>NaN</td>\n",
       "      <td>NaN</td>\n",
       "      <td>$100,000 and Over</td>\n",
       "      <td>5.00</td>\n",
       "    </tr>\n",
       "  </tbody>\n",
       "</table>\n",
       "<p>10175 rows × 9 columns</p>\n",
       "</div>"
      ],
      "text/plain": [
       "       ID Number  Gender              Race Country of Birth  \\\n",
       "0          73557    Male             Black    United States   \n",
       "1          73558    Male             White    United States   \n",
       "2          73559    Male             White    United States   \n",
       "3          73560    Male             White    United States   \n",
       "4          73561  Female             White    United States   \n",
       "...          ...     ...               ...              ...   \n",
       "10170      83727    Male    Other Hispanic    United States   \n",
       "10171      83728  Female  Mexican-American    United States   \n",
       "10172      83729  Female             Black    Other Country   \n",
       "10173      83730    Male    Other Hispanic    United States   \n",
       "10174      83731    Male             Asian    United States   \n",
       "\n",
       "                             Citizenship  \\\n",
       "0      Citizen by birth / naturalization   \n",
       "1      Citizen by birth / naturalization   \n",
       "2      Citizen by birth / naturalization   \n",
       "3      Citizen by birth / naturalization   \n",
       "4      Citizen by birth / naturalization   \n",
       "...                                  ...   \n",
       "10170  Citizen by birth / naturalization   \n",
       "10171  Citizen by birth / naturalization   \n",
       "10172  Citizen by birth / naturalization   \n",
       "10173  Citizen by birth / naturalization   \n",
       "10174  Citizen by birth / naturalization   \n",
       "\n",
       "                                    Education        Marital  \\\n",
       "0      High school graduate/GED or equivalent      Separated   \n",
       "1      High school graduate/GED or equivalent        Married   \n",
       "2                   Some college or AA degree        Married   \n",
       "3                                         NaN            NaN   \n",
       "4                   College graduate or above        Married   \n",
       "...                                       ...            ...   \n",
       "10170               College graduate or above  Never Married   \n",
       "10171                                     NaN            NaN   \n",
       "10172               College graduate or above       Divorced   \n",
       "10173                                     NaN            NaN   \n",
       "10174                                     NaN            NaN   \n",
       "\n",
       "                   Income  Poverty  \n",
       "0      $15,000 to $19,999     0.84  \n",
       "1      $35,000 to $44,999     1.78  \n",
       "2      $65,000 to $74,999     4.51  \n",
       "3      $55,000 to $64,999     2.52  \n",
       "4       $100,000 and Over     5.00  \n",
       "...                   ...      ...  \n",
       "10170                 NaN      NaN  \n",
       "10171  $45,000 to $54,999     1.95  \n",
       "10172  $35,000 to $44,999     3.66  \n",
       "10173  $25,000 to $34,999     1.05  \n",
       "10174   $100,000 and Over     5.00  \n",
       "\n",
       "[10175 rows x 9 columns]"
      ]
     },
     "execution_count": 8,
     "metadata": {},
     "output_type": "execute_result"
    }
   ],
   "source": [
    "#All of the data is encoded by numbers that correspond to categorical data. To fix this, the following code replaces the \n",
    "# numbers with categorical values that will make the data easier to graph and interpret \n",
    "\n",
    "#Rename all of the columns in demo\n",
    "\n",
    "#Gender\n",
    "demo['RIAGENDR'] = demo['RIAGENDR'].replace(1 ,'Male')\n",
    "demo['RIAGENDR'] = demo['RIAGENDR'].replace(2 ,'Female')\n",
    "\n",
    "#Race\n",
    "demo['RIDRETH3'] = demo['RIDRETH3'].replace(1 ,'Mexican-American')\n",
    "demo['RIDRETH3'] = demo['RIDRETH3'].replace(2 ,'Other Hispanic')\n",
    "demo['RIDRETH3'] = demo['RIDRETH3'].replace(3 ,'White')\n",
    "demo['RIDRETH3'] = demo['RIDRETH3'].replace(4 ,'Black')\n",
    "demo['RIDRETH3'] = demo['RIDRETH3'].replace(6 ,'Asian')\n",
    "demo['RIDRETH3'] = demo['RIDRETH3'].replace(7 ,'Other / Multiracial')\n",
    "\n",
    "#Country of Birth \n",
    "demo['DMDBORN4'] = demo['DMDBORN4'].replace(1 ,'United States')\n",
    "demo['DMDBORN4'] = demo['DMDBORN4'].replace(2 ,'Other Country')\n",
    "demo['DMDBORN4'] = demo['DMDBORN4'].replace(77,np.NaN)\n",
    "demo['DMDBORN4'] = demo['DMDBORN4'].replace(99,np.NaN)\n",
    "\n",
    "#Citizenship \n",
    "demo['DMDCITZN'] = demo['DMDCITZN'].replace(1 ,'Citizen by birth / naturalization')\n",
    "demo['DMDCITZN'] = demo['DMDCITZN'].replace(2,'Not a US citizen')\n",
    "demo['DMDCITZN'] = demo['DMDCITZN'].replace(7,np.NaN)\n",
    "demo['DMDCITZN'] = demo['DMDCITZN'].replace(9,np.NaN)\n",
    "\n",
    "#Education\n",
    "demo['DMDEDUC2'] = demo['DMDEDUC2'].replace(1 ,'Less than 9th grade')\n",
    "demo['DMDEDUC2'] = demo['DMDEDUC2'].replace(2,'9-11th grade')\n",
    "demo['DMDEDUC2'] = demo['DMDEDUC2'].replace(3,'High school graduate/GED or equivalent')\n",
    "demo['DMDEDUC2'] = demo['DMDEDUC2'].replace(4,'Some college or AA degree')\n",
    "demo['DMDEDUC2'] = demo['DMDEDUC2'].replace(5,'College graduate or above')\n",
    "demo['DMDEDUC2'] = demo['DMDEDUC2'].replace(7,np.NaN)\n",
    "demo['DMDEDUC2'] = demo['DMDEDUC2'].replace(9,np.NaN)\n",
    "\n",
    "#Martial Status\n",
    "demo['DMDMARTL'] = demo['DMDMARTL'].replace(1,'Married')\n",
    "demo['DMDMARTL'] = demo['DMDMARTL'].replace(2,'Widowed')\n",
    "demo['DMDMARTL'] = demo['DMDMARTL'].replace(3,'Divorced')\n",
    "demo['DMDMARTL'] = demo['DMDMARTL'].replace(4,'Separated')\n",
    "demo['DMDMARTL'] = demo['DMDMARTL'].replace(5,'Never Married')\n",
    "demo['DMDMARTL'] = demo['DMDMARTL'].replace(6,'Living with Partner')\n",
    "demo['DMDMARTL'] = demo['DMDMARTL'].replace(77,np.NaN)\n",
    "demo['DMDMARTL'] = demo['DMDMARTL'].replace(99,np.NaN)\n",
    "#Income\n",
    "demo['INDHHIN2'] = demo['INDHHIN2'].replace(1,'$ 0 to $ 4,999')\n",
    "demo['INDHHIN2'] = demo['INDHHIN2'].replace(2,'$ 5,000 to $ 9,999')\n",
    "demo['INDHHIN2'] = demo['INDHHIN2'].replace(3,'$10,000 to $14,999')\n",
    "demo['INDHHIN2'] = demo['INDHHIN2'].replace(4,'$15,000 to $19,999')\n",
    "demo['INDHHIN2'] = demo['INDHHIN2'].replace(5,'$20,000 to $24,999')\n",
    "demo['INDHHIN2'] = demo['INDHHIN2'].replace(6,'$25,000 to $34,999')\n",
    "demo['INDHHIN2'] = demo['INDHHIN2'].replace(7,'$35,000 to $44,999')\n",
    "demo['INDHHIN2'] = demo['INDHHIN2'].replace(8,'$45,000 to $54,999')\n",
    "demo['INDHHIN2'] = demo['INDHHIN2'].replace(9,'$55,000 to $64,999')\n",
    "demo['INDHHIN2'] = demo['INDHHIN2'].replace(10,'$65,000 to $74,999')\n",
    "demo['INDHHIN2'] = demo['INDHHIN2'].replace(14,'$75,000 to $99,999')\n",
    "demo['INDHHIN2'] = demo['INDHHIN2'].replace(15,'$100,000 and Over')\n",
    "demo['INDHHIN2'] = demo['INDHHIN2'].replace(77,np.NaN)\n",
    "demo['INDHHIN2'] = demo['INDHHIN2'].replace(99,np.NaN)\n",
    "\n",
    "demo.columns = ['ID Number', 'Gender' , 'Race', 'Country of Birth' , 'Citizenship' , 'Education', 'Marital' , 'Income', 'Poverty']\n",
    "demo"
   ]
  },
  {
   "cell_type": "markdown",
   "metadata": {},
   "source": [
    "Now that we have reowrked the integer values, it will be easy to graph and give an overall breakdown visualization of the data. The following code graphs all of the demographic data. "
   ]
  },
  {
   "cell_type": "code",
   "execution_count": 9,
   "metadata": {},
   "outputs": [
    {
     "data": {
      "image/png": "[encoded data removed]",
      "text/plain": [
       "<Figure size 1800x2160 with 7 Axes>"
      ]
     },
     "metadata": {
      "needs_background": "light"
     },
     "output_type": "display_data"
    }
   ],
   "source": [
    "figure, ax = plt.subplots(3, 5, figsize=(25,30))\n",
    "import matplotlib.pylab as plt\n",
    "import warnings\n",
    "warnings.simplefilter(action='ignore', category=FutureWarning)\n",
    "sns.set()\n",
    "gender = sns.countplot(demo['Gender'], ax=plt.subplot(5,3,1)).set_title(\"Gender\")\n",
    "birth = sns.countplot(demo['Country of Birth'], ax=plt.subplot(5,3,2)).set_title(\"Country of Birth\")\n",
    "citizenship = sns.countplot(demo['Citizenship'], ax=plt.subplot(5,3, 3)).set_title(\"Citizenship Status\")\n",
    "\n",
    "race = sns.countplot(demo['Race'], ax=plt.subplot(5,3,(4,6))).set_title(\"Race\")\n",
    "education = sns.countplot(demo['Education'], ax=plt.subplot(5,3,(7,9))).set_title(\"Education Level\")\n",
    "marital = sns.countplot(demo['Marital'], ax=plt.subplot(5,3,(10,12))).set_title(\"Marital Status\")\n",
    "income = sns.countplot(demo['Income'], ax=plt.subplot(5,3,(13,15))).set_title(\"Income Ranges\")\n",
    "\n",
    "\n",
    "figure.savefig('Demographics.png')"
   ]
  },
  {
   "cell_type": "markdown",
   "metadata": {},
   "source": [
    "This gives us a great sense of how our data is broken down. We can see that the ratio of male to female is close to 1:1, so this may help to remove any gender bias in future work with gender. In addition, we can see that there is not as even of a distribution with regard to race, so it may be important to normalize future work with this data set. "
   ]
  },
  {
   "cell_type": "markdown",
   "metadata": {},
   "source": [
    "# Visualization and Interpretation"
   ]
  },
  {
   "cell_type": "markdown",
   "metadata": {},
   "source": [
    "Next, we would like to create some graphs to help visualize different relationships between the demopgraphic data "
   ]
  },
  {
   "cell_type": "markdown",
   "metadata": {},
   "source": [
    "First, let's take a look at how income is broken down by race"
   ]
  },
  {
   "cell_type": "code",
   "execution_count": 10,
   "metadata": {},
   "outputs": [
    {
     "data": {
      "image/png": "[encoded data removed]",
      "text/plain": [
       "<Figure size 722.475x576 with 1 Axes>"
      ]
     },
     "metadata": {},
     "output_type": "display_data"
    }
   ],
   "source": [
    "g = sns.catplot(x=\"Race\", hue=\"Income\", data=demo, kind=\"count\", height=8)\n"
   ]
  },
  {
   "cell_type": "markdown",
   "metadata": {},
   "source": [
    "This chart groups race together and displays the count of each income bracket within that race. We can see that people of White\n",
    "race appear to have the greatest number of people earning $100,000 and over. However, we have to remember that this study also had more people of white race surveyed. "
   ]
  },
  {
   "cell_type": "markdown",
   "metadata": {},
   "source": [
    "In attempt to better visualzie this, lets create a similar graph that breaks down income into race brackets. This time, we will normalize the data in order to get a better representation of the spread. "
   ]
  },
  {
   "cell_type": "code",
   "execution_count": 11,
   "metadata": {},
   "outputs": [
    {
     "data": {
      "text/plain": [
       "<matplotlib.legend.Legend at 0x7f70e4bfaf40>"
      ]
     },
     "execution_count": 11,
     "metadata": {},
     "output_type": "execute_result"
    },
    {
     "data": {
      "image/png": "[encoded data removed]",
      "text/plain": [
       "<Figure size 432x288 with 1 Axes>"
      ]
     },
     "metadata": {},
     "output_type": "display_data"
    }
   ],
   "source": [
    "df = (pd.crosstab(demo['Race'], demo['Income'] , normalize= 'index'))\n",
    "ax = df.plot.barh(stacked=True)\n",
    "ax.set_xlabel('Count')\n",
    "ax.legend(bbox_to_anchor=(1.05, 1), loc='upper left', borderaxespad=0.)"
   ]
  },
  {
   "cell_type": "markdown",
   "metadata": {},
   "source": [
    "This graphs shows us the importance of normalizing the data. While the previous graph might have lead us to believe the White race had the most amount of people making $100,000 and over, we can actually see that the Asian race has the most amount of people in this bracket when the data is normalized to account for the differences in the number of people grouped into each race."
   ]
  },
  {
   "cell_type": "markdown",
   "metadata": {},
   "source": [
    "Let's continue to look at other visual interpretations of the data before we begin to calculate correlation statistics and attempt a prediction model. We have already broken down the data into income by race. To better understand these results, let's investigate how education level is broken down by race see if there are any visual indications of how income depends on education level."
   ]
  },
  {
   "cell_type": "code",
   "execution_count": 12,
   "metadata": {},
   "outputs": [
    {
     "data": {
      "text/plain": [
       "<matplotlib.legend.Legend at 0x7f70e4856c70>"
      ]
     },
     "execution_count": 12,
     "metadata": {},
     "output_type": "execute_result"
    },
    {
     "data": {
      "image/png": "[encoded data removed]",
      "text/plain": [
       "<Figure size 432x288 with 1 Axes>"
      ]
     },
     "metadata": {},
     "output_type": "display_data"
    }
   ],
   "source": [
    "df = (pd.crosstab(demo['Race'], demo['Education'] , normalize= 'index'))\n",
    "ax = df.plot.barh(stacked=True)\n",
    "ax.set_xlabel('Count')\n",
    "ax.legend(bbox_to_anchor=(1.05, 1), loc='upper left', borderaxespad=0.)"
   ]
  },
  {
   "cell_type": "code",
   "execution_count": 13,
   "metadata": {},
   "outputs": [
    {
     "data": {
      "text/plain": [
       "<matplotlib.legend.Legend at 0x7f70e05f1070>"
      ]
     },
     "execution_count": 13,
     "metadata": {},
     "output_type": "execute_result"
    },
    {
     "data": {
      "image/png": "[encoded data removed]",
      "text/plain": [
       "<Figure size 432x288 with 1 Axes>"
      ]
     },
     "metadata": {},
     "output_type": "display_data"
    }
   ],
   "source": [
    "df = (pd.crosstab(demo['Education'], demo['Income'] , normalize= 'index'))\n",
    "ax = df.plot.barh(stacked=True)\n",
    "ax.set_xlabel('Count')\n",
    "ax.legend(bbox_to_anchor=(1.05, 1), loc='upper left', borderaxespad=0.)"
   ]
  },
  {
   "cell_type": "markdown",
   "metadata": {},
   "source": [
    "The above graphs confirm what would be expected, the race bracket with the highest percentage of people in the highest income bracket also has the highest prcentage of people that are college graduates or above. We then broke down income by education level to see that, as expected, college graduate or above has the highest amount of earners $100,000 or above. "
   ]
  },
  {
   "cell_type": "markdown",
   "metadata": {},
   "source": [
    "While we have visually investiagted the main demographic areas of interest for our project, it may be interesting to visualize other factors of the data set to illuminate other interesting trends. The graphs below work to break down the data set in ways that may not be particularly pertinent to the issues we are investigating, but may provide useful information for further investigation. "
   ]
  },
  {
   "cell_type": "code",
   "execution_count": 14,
   "metadata": {},
   "outputs": [
    {
     "data": {
      "text/plain": [
       "<matplotlib.legend.Legend at 0x7f70e39b16d0>"
      ]
     },
     "execution_count": 14,
     "metadata": {},
     "output_type": "execute_result"
    },
    {
     "data": {
      "image/png": "[encoded data removed]",
      "text/plain": [
       "<Figure size 432x288 with 1 Axes>"
      ]
     },
     "metadata": {},
     "output_type": "display_data"
    }
   ],
   "source": [
    "df = (pd.crosstab(demo['Citizenship'], demo['Education'] , normalize= 'index'))\n",
    "ax = df.plot.barh(stacked=True)\n",
    "ax.set_xlabel('Count')\n",
    "ax.legend(bbox_to_anchor=(1.05, 1), loc='upper left', borderaxespad=0.)"
   ]
  },
  {
   "cell_type": "code",
   "execution_count": 15,
   "metadata": {},
   "outputs": [
    {
     "data": {
      "text/plain": [
       "<matplotlib.legend.Legend at 0x7f70e3910730>"
      ]
     },
     "execution_count": 15,
     "metadata": {},
     "output_type": "execute_result"
    },
    {
     "data": {
      "image/png": "[encoded data removed]",
      "text/plain": [
       "<Figure size 432x288 with 1 Axes>"
      ]
     },
     "metadata": {},
     "output_type": "display_data"
    }
   ],
   "source": [
    "df = pd.crosstab(demo['Gender'], demo['Income'],normalize= 'index')\n",
    "ax = df.plot.barh(stacked=True)\n",
    "ax.legend(bbox_to_anchor=(1.05, 1), loc='upper left', borderaxespad=0.)"
   ]
  },
  {
   "cell_type": "code",
   "execution_count": 16,
   "metadata": {},
   "outputs": [
    {
     "data": {
      "text/plain": [
       "<matplotlib.legend.Legend at 0x7f70e3a3c3d0>"
      ]
     },
     "execution_count": 16,
     "metadata": {},
     "output_type": "execute_result"
    },
    {
     "data": {
      "image/png": "[encoded data removed]",
      "text/plain": [
       "<Figure size 432x288 with 1 Axes>"
      ]
     },
     "metadata": {},
     "output_type": "display_data"
    }
   ],
   "source": [
    "df = pd.crosstab(demo['Race'], demo['Citizenship'],normalize= 'index')\n",
    "ax = df.plot.barh(stacked=True)\n",
    "ax.legend(bbox_to_anchor=(1.05, 1), loc='upper left', borderaxespad=0.)"
   ]
  },
  {
   "cell_type": "markdown",
   "metadata": {},
   "source": [
    "These graphs give some insight into other categories such as how citizenship impacts education level, how income is affected by gender, and what percent of each race represented is a US citizen. These different relationships may be interesting for future data science analysis and prediction models. "
   ]
  },
  {
   "cell_type": "markdown",
   "metadata": {},
   "source": [
    "Below, we converted the data into categorical data types for ease of use for the future. "
   ]
  },
  {
   "cell_type": "code",
   "execution_count": 17,
   "metadata": {},
   "outputs": [
    {
     "data": {
      "text/plain": [
       "ID Number              int64\n",
       "Gender              category\n",
       "Race                category\n",
       "Country of Birth    category\n",
       "Citizenship         category\n",
       "Education           category\n",
       "Marital             category\n",
       "Income              category\n",
       "Poverty              float64\n",
       "dtype: object"
      ]
     },
     "execution_count": 17,
     "metadata": {},
     "output_type": "execute_result"
    }
   ],
   "source": [
    "cat_cols = list(demo.select_dtypes(include=['object']).columns)\n",
    "for i in cat_cols:\n",
    "    demo[i] = demo[i].astype('category')\n",
    "\n",
    "demo.dtypes\n",
    "\n"
   ]
  },
  {
   "cell_type": "code",
   "execution_count": 18,
   "metadata": {},
   "outputs": [
    {
     "data": {
      "text/plain": [
       "White                  3674\n",
       "Black                  2267\n",
       "Mexican-American       1730\n",
       "Asian                  1074\n",
       "Other Hispanic          960\n",
       "Other / Multiracial     470\n",
       "Name: Race, dtype: int64"
      ]
     },
     "execution_count": 18,
     "metadata": {},
     "output_type": "execute_result"
    }
   ],
   "source": [
    "demo['Race'].value_counts()"
   ]
  },
  {
   "cell_type": "markdown",
   "metadata": {},
   "source": [
    "# Cleaning and Visualizing Subsequent Datasets"
   ]
  },
  {
   "cell_type": "markdown",
   "metadata": {},
   "source": [
    "Next, lets grab some more data that will help us accomplish our goals. We will grab occupation data, data that discusses access to healthcare, and insurance information. The CDC dataset also had mental health information available, and we decided to grab this dataset as well to observe any potential correlations. "
   ]
  },
  {
   "cell_type": "code",
   "execution_count": 19,
   "metadata": {},
   "outputs": [],
   "source": [
    "#This data includes questionare answers as part of the survey distributed by the CDC\n",
    "quest = pd.read_csv(r'https://raw.githubusercontent.com/cdhumme/notebooks/master/questionnaire.csv')"
   ]
  },
  {
   "cell_type": "code",
   "execution_count": 20,
   "metadata": {},
   "outputs": [
    {
     "data": {
      "text/html": [
       "<div>\n",
       "<style scoped>\n",
       "    .dataframe tbody tr th:only-of-type {\n",
       "        vertical-align: middle;\n",
       "    }\n",
       "\n",
       "    .dataframe tbody tr th {\n",
       "        vertical-align: top;\n",
       "    }\n",
       "\n",
       "    .dataframe thead th {\n",
       "        text-align: right;\n",
       "    }\n",
       "</style>\n",
       "<table border=\"1\" class=\"dataframe\">\n",
       "  <thead>\n",
       "    <tr style=\"text-align: right;\">\n",
       "      <th></th>\n",
       "      <th>SEQN</th>\n",
       "      <th>ACD011A</th>\n",
       "      <th>ACD011B</th>\n",
       "      <th>ACD011C</th>\n",
       "      <th>ACD040</th>\n",
       "      <th>ACD110</th>\n",
       "      <th>ALQ101</th>\n",
       "      <th>ALQ110</th>\n",
       "      <th>ALQ120Q</th>\n",
       "      <th>ALQ120U</th>\n",
       "      <th>...</th>\n",
       "      <th>WHD080U</th>\n",
       "      <th>WHD080L</th>\n",
       "      <th>WHD110</th>\n",
       "      <th>WHD120</th>\n",
       "      <th>WHD130</th>\n",
       "      <th>WHD140</th>\n",
       "      <th>WHQ150</th>\n",
       "      <th>WHQ030M</th>\n",
       "      <th>WHQ500</th>\n",
       "      <th>WHQ520</th>\n",
       "    </tr>\n",
       "  </thead>\n",
       "  <tbody>\n",
       "    <tr>\n",
       "      <th>0</th>\n",
       "      <td>73557</td>\n",
       "      <td>1.0</td>\n",
       "      <td>NaN</td>\n",
       "      <td>NaN</td>\n",
       "      <td>NaN</td>\n",
       "      <td>NaN</td>\n",
       "      <td>1.0</td>\n",
       "      <td>NaN</td>\n",
       "      <td>1.0</td>\n",
       "      <td>3.0</td>\n",
       "      <td>...</td>\n",
       "      <td>NaN</td>\n",
       "      <td>40.0</td>\n",
       "      <td>270.0</td>\n",
       "      <td>200.0</td>\n",
       "      <td>69.0</td>\n",
       "      <td>270.0</td>\n",
       "      <td>62.0</td>\n",
       "      <td>NaN</td>\n",
       "      <td>NaN</td>\n",
       "      <td>NaN</td>\n",
       "    </tr>\n",
       "    <tr>\n",
       "      <th>1</th>\n",
       "      <td>73558</td>\n",
       "      <td>1.0</td>\n",
       "      <td>NaN</td>\n",
       "      <td>NaN</td>\n",
       "      <td>NaN</td>\n",
       "      <td>NaN</td>\n",
       "      <td>1.0</td>\n",
       "      <td>NaN</td>\n",
       "      <td>7.0</td>\n",
       "      <td>1.0</td>\n",
       "      <td>...</td>\n",
       "      <td>NaN</td>\n",
       "      <td>NaN</td>\n",
       "      <td>240.0</td>\n",
       "      <td>250.0</td>\n",
       "      <td>72.0</td>\n",
       "      <td>250.0</td>\n",
       "      <td>25.0</td>\n",
       "      <td>NaN</td>\n",
       "      <td>NaN</td>\n",
       "      <td>NaN</td>\n",
       "    </tr>\n",
       "    <tr>\n",
       "      <th>2</th>\n",
       "      <td>73559</td>\n",
       "      <td>1.0</td>\n",
       "      <td>NaN</td>\n",
       "      <td>NaN</td>\n",
       "      <td>NaN</td>\n",
       "      <td>NaN</td>\n",
       "      <td>1.0</td>\n",
       "      <td>NaN</td>\n",
       "      <td>0.0</td>\n",
       "      <td>NaN</td>\n",
       "      <td>...</td>\n",
       "      <td>NaN</td>\n",
       "      <td>NaN</td>\n",
       "      <td>180.0</td>\n",
       "      <td>190.0</td>\n",
       "      <td>70.0</td>\n",
       "      <td>228.0</td>\n",
       "      <td>35.0</td>\n",
       "      <td>NaN</td>\n",
       "      <td>NaN</td>\n",
       "      <td>NaN</td>\n",
       "    </tr>\n",
       "    <tr>\n",
       "      <th>3</th>\n",
       "      <td>73560</td>\n",
       "      <td>1.0</td>\n",
       "      <td>NaN</td>\n",
       "      <td>NaN</td>\n",
       "      <td>NaN</td>\n",
       "      <td>NaN</td>\n",
       "      <td>NaN</td>\n",
       "      <td>NaN</td>\n",
       "      <td>NaN</td>\n",
       "      <td>NaN</td>\n",
       "      <td>...</td>\n",
       "      <td>NaN</td>\n",
       "      <td>NaN</td>\n",
       "      <td>NaN</td>\n",
       "      <td>NaN</td>\n",
       "      <td>NaN</td>\n",
       "      <td>NaN</td>\n",
       "      <td>NaN</td>\n",
       "      <td>3.0</td>\n",
       "      <td>3.0</td>\n",
       "      <td>3.0</td>\n",
       "    </tr>\n",
       "    <tr>\n",
       "      <th>4</th>\n",
       "      <td>73561</td>\n",
       "      <td>1.0</td>\n",
       "      <td>NaN</td>\n",
       "      <td>NaN</td>\n",
       "      <td>NaN</td>\n",
       "      <td>NaN</td>\n",
       "      <td>1.0</td>\n",
       "      <td>NaN</td>\n",
       "      <td>0.0</td>\n",
       "      <td>NaN</td>\n",
       "      <td>...</td>\n",
       "      <td>NaN</td>\n",
       "      <td>NaN</td>\n",
       "      <td>150.0</td>\n",
       "      <td>135.0</td>\n",
       "      <td>67.0</td>\n",
       "      <td>170.0</td>\n",
       "      <td>60.0</td>\n",
       "      <td>NaN</td>\n",
       "      <td>NaN</td>\n",
       "      <td>NaN</td>\n",
       "    </tr>\n",
       "  </tbody>\n",
       "</table>\n",
       "<p>5 rows × 953 columns</p>\n",
       "</div>"
      ],
      "text/plain": [
       "    SEQN  ACD011A  ACD011B  ACD011C  ACD040  ACD110  ALQ101  ALQ110  ALQ120Q  \\\n",
       "0  73557      1.0      NaN      NaN     NaN     NaN     1.0     NaN      1.0   \n",
       "1  73558      1.0      NaN      NaN     NaN     NaN     1.0     NaN      7.0   \n",
       "2  73559      1.0      NaN      NaN     NaN     NaN     1.0     NaN      0.0   \n",
       "3  73560      1.0      NaN      NaN     NaN     NaN     NaN     NaN      NaN   \n",
       "4  73561      1.0      NaN      NaN     NaN     NaN     1.0     NaN      0.0   \n",
       "\n",
       "   ALQ120U  ...  WHD080U  WHD080L  WHD110  WHD120  WHD130  WHD140  WHQ150  \\\n",
       "0      3.0  ...      NaN     40.0   270.0   200.0    69.0   270.0    62.0   \n",
       "1      1.0  ...      NaN      NaN   240.0   250.0    72.0   250.0    25.0   \n",
       "2      NaN  ...      NaN      NaN   180.0   190.0    70.0   228.0    35.0   \n",
       "3      NaN  ...      NaN      NaN     NaN     NaN     NaN     NaN     NaN   \n",
       "4      NaN  ...      NaN      NaN   150.0   135.0    67.0   170.0    60.0   \n",
       "\n",
       "   WHQ030M  WHQ500  WHQ520  \n",
       "0      NaN     NaN     NaN  \n",
       "1      NaN     NaN     NaN  \n",
       "2      NaN     NaN     NaN  \n",
       "3      3.0     3.0     3.0  \n",
       "4      NaN     NaN     NaN  \n",
       "\n",
       "[5 rows x 953 columns]"
      ]
     },
     "execution_count": 20,
     "metadata": {},
     "output_type": "execute_result"
    }
   ],
   "source": [
    "#Examine the data\n",
    "quest.head()"
   ]
  },
  {
   "cell_type": "markdown",
   "metadata": {},
   "source": [
    "First, let's grab and clean the mental health data"
   ]
  },
  {
   "cell_type": "code",
   "execution_count": 21,
   "metadata": {},
   "outputs": [],
   "source": [
    "#Get the mental health data\n",
    "quest = pd.read_csv(r'https://raw.githubusercontent.com/cdhumme/notebooks/master/questionnaire.csv')\n",
    "ment = quest[['DPQ010','DPQ020']]"
   ]
  },
  {
   "cell_type": "code",
   "execution_count": 22,
   "metadata": {},
   "outputs": [
    {
     "data": {
      "text/html": [
       "<div>\n",
       "<style scoped>\n",
       "    .dataframe tbody tr th:only-of-type {\n",
       "        vertical-align: middle;\n",
       "    }\n",
       "\n",
       "    .dataframe tbody tr th {\n",
       "        vertical-align: top;\n",
       "    }\n",
       "\n",
       "    .dataframe thead th {\n",
       "        text-align: right;\n",
       "    }\n",
       "</style>\n",
       "<table border=\"1\" class=\"dataframe\">\n",
       "  <thead>\n",
       "    <tr style=\"text-align: right;\">\n",
       "      <th></th>\n",
       "      <th>DPQ010</th>\n",
       "      <th>DPQ020</th>\n",
       "    </tr>\n",
       "  </thead>\n",
       "  <tbody>\n",
       "    <tr>\n",
       "      <th>0</th>\n",
       "      <td>1.0</td>\n",
       "      <td>0.0</td>\n",
       "    </tr>\n",
       "    <tr>\n",
       "      <th>1</th>\n",
       "      <td>2.0</td>\n",
       "      <td>0.0</td>\n",
       "    </tr>\n",
       "    <tr>\n",
       "      <th>2</th>\n",
       "      <td>0.0</td>\n",
       "      <td>0.0</td>\n",
       "    </tr>\n",
       "    <tr>\n",
       "      <th>3</th>\n",
       "      <td>NaN</td>\n",
       "      <td>NaN</td>\n",
       "    </tr>\n",
       "    <tr>\n",
       "      <th>4</th>\n",
       "      <td>2.0</td>\n",
       "      <td>1.0</td>\n",
       "    </tr>\n",
       "  </tbody>\n",
       "</table>\n",
       "</div>"
      ],
      "text/plain": [
       "   DPQ010  DPQ020\n",
       "0     1.0     0.0\n",
       "1     2.0     0.0\n",
       "2     0.0     0.0\n",
       "3     NaN     NaN\n",
       "4     2.0     1.0"
      ]
     },
     "execution_count": 22,
     "metadata": {},
     "output_type": "execute_result"
    }
   ],
   "source": [
    "#Examine the mental health data\n",
    "ment.head()"
   ]
  },
  {
   "cell_type": "code",
   "execution_count": 23,
   "metadata": {},
   "outputs": [],
   "source": [
    "#Replace refused or unknown survey answers\n",
    "ment = ment.replace(9, np.NaN)\n",
    "ment = ment.replace(7, np.NaN)\n"
   ]
  },
  {
   "cell_type": "markdown",
   "metadata": {},
   "source": [
    "Below explains the two categories for the mental health data and their respective numerical values \n",
    "\n",
    "DPQ010 - Have little interest in doing things\n",
    "0\tNot at all\t\t\n",
    "1\tSeveral days\t\n",
    "2\tMore than half the days\t\n",
    "3\tNearly every day\t\n",
    "7\tRefused\t\n",
    "9\tDon't know\t\t\n",
    ".\tMissing\n",
    "\n",
    "DPQ020 - Feeling down, depressed, or hopeless\n",
    "\n",
    "0\tNot at all\t\t\n",
    "1\tSeveral days\t\t\n",
    "2\tMore than half the days\t\t\n",
    "3\tNearly every day\t\t\n",
    "7\tRefused\t\t\n",
    "9\tDon't know\t\t\n",
    ".\tMissing\n",
    "\n"
   ]
  },
  {
   "cell_type": "code",
   "execution_count": 24,
   "metadata": {},
   "outputs": [
    {
     "data": {
      "text/html": [
       "<div>\n",
       "<style scoped>\n",
       "    .dataframe tbody tr th:only-of-type {\n",
       "        vertical-align: middle;\n",
       "    }\n",
       "\n",
       "    .dataframe tbody tr th {\n",
       "        vertical-align: top;\n",
       "    }\n",
       "\n",
       "    .dataframe thead th {\n",
       "        text-align: right;\n",
       "    }\n",
       "</style>\n",
       "<table border=\"1\" class=\"dataframe\">\n",
       "  <thead>\n",
       "    <tr style=\"text-align: right;\">\n",
       "      <th></th>\n",
       "      <th>Have Little Interest in Things</th>\n",
       "      <th>Feeling Depressed</th>\n",
       "    </tr>\n",
       "  </thead>\n",
       "  <tbody>\n",
       "    <tr>\n",
       "      <th>0</th>\n",
       "      <td>1.0</td>\n",
       "      <td>0.0</td>\n",
       "    </tr>\n",
       "    <tr>\n",
       "      <th>1</th>\n",
       "      <td>2.0</td>\n",
       "      <td>0.0</td>\n",
       "    </tr>\n",
       "    <tr>\n",
       "      <th>2</th>\n",
       "      <td>0.0</td>\n",
       "      <td>0.0</td>\n",
       "    </tr>\n",
       "    <tr>\n",
       "      <th>3</th>\n",
       "      <td>NaN</td>\n",
       "      <td>NaN</td>\n",
       "    </tr>\n",
       "    <tr>\n",
       "      <th>4</th>\n",
       "      <td>2.0</td>\n",
       "      <td>1.0</td>\n",
       "    </tr>\n",
       "    <tr>\n",
       "      <th>...</th>\n",
       "      <td>...</td>\n",
       "      <td>...</td>\n",
       "    </tr>\n",
       "    <tr>\n",
       "      <th>10170</th>\n",
       "      <td>0.0</td>\n",
       "      <td>0.0</td>\n",
       "    </tr>\n",
       "    <tr>\n",
       "      <th>10171</th>\n",
       "      <td>NaN</td>\n",
       "      <td>NaN</td>\n",
       "    </tr>\n",
       "    <tr>\n",
       "      <th>10172</th>\n",
       "      <td>NaN</td>\n",
       "      <td>NaN</td>\n",
       "    </tr>\n",
       "    <tr>\n",
       "      <th>10173</th>\n",
       "      <td>NaN</td>\n",
       "      <td>NaN</td>\n",
       "    </tr>\n",
       "    <tr>\n",
       "      <th>10174</th>\n",
       "      <td>NaN</td>\n",
       "      <td>NaN</td>\n",
       "    </tr>\n",
       "  </tbody>\n",
       "</table>\n",
       "<p>10175 rows × 2 columns</p>\n",
       "</div>"
      ],
      "text/plain": [
       "       Have Little Interest in Things  Feeling Depressed\n",
       "0                                 1.0                0.0\n",
       "1                                 2.0                0.0\n",
       "2                                 0.0                0.0\n",
       "3                                 NaN                NaN\n",
       "4                                 2.0                1.0\n",
       "...                               ...                ...\n",
       "10170                             0.0                0.0\n",
       "10171                             NaN                NaN\n",
       "10172                             NaN                NaN\n",
       "10173                             NaN                NaN\n",
       "10174                             NaN                NaN\n",
       "\n",
       "[10175 rows x 2 columns]"
      ]
     },
     "execution_count": 24,
     "metadata": {},
     "output_type": "execute_result"
    }
   ],
   "source": [
    "#Rename the mental health columns \n",
    "ment.columns = ['Have Little Interest in Things', 'Feeling Depressed' ]\n",
    "ment"
   ]
  },
  {
   "cell_type": "markdown",
   "metadata": {},
   "source": [
    "Now that we have the cleaned mental health data, let's create some graphs to investigate the intersection of it and other data"
   ]
  },
  {
   "cell_type": "code",
   "execution_count": 25,
   "metadata": {},
   "outputs": [
    {
     "data": {
      "text/plain": [
       "<matplotlib.legend.Legend at 0x7f70e4b26280>"
      ]
     },
     "execution_count": 25,
     "metadata": {},
     "output_type": "execute_result"
    },
    {
     "data": {
      "image/png": "[encoded data removed]",
      "text/plain": [
       "<Figure size 432x288 with 1 Axes>"
      ]
     },
     "metadata": {},
     "output_type": "display_data"
    }
   ],
   "source": [
    "df = pd.crosstab(demo['Income'], ment['Feeling Depressed'],normalize= 'index')\n",
    "ax = df.plot.barh(stacked=True)\n",
    "ax.legend(bbox_to_anchor=(1.05, 1), loc='upper left', borderaxespad=0.)"
   ]
  },
  {
   "cell_type": "markdown",
   "metadata": {},
   "source": [
    "Here we can see that income appears to be correlated to how often feelings of depresion are experienced. People making over $100,000 have a higher prevelance of not feeling depressed at all (value of 0), while people in the lower income brackets have a higher prevelance of people feeling depressed \"nearly every day\" (value of 3). "
   ]
  },
  {
   "cell_type": "markdown",
   "metadata": {},
   "source": [
    "# Occupation and Health Access "
   ]
  },
  {
   "cell_type": "markdown",
   "metadata": {},
   "source": [
    "Next, we have to filter the questionnaire dataset into smaller sections of interest. Here, we extract the occupational data by pulling columns with codes corresponding to occupational information. The codes of interest are below:\n",
    "\n",
    "OCQ180 - Hours worked last week at all jobs 1-120: range of hours 77777: Refused 99999: Don't Know\n",
    "\n",
    "OCQ210 - Usually work 35 or more hours per week 1: yes 2: no 7: refused 9: don't know\n",
    "\n",
    "OCQ260: Description of job/work situation 1: An employee of a private company, business, or individual for wages, salary, or commission 2: A federal government employee 3: A state government employee 4: A local government employee 5: Self-employed in own business, professional practice or farm 6: Working without pay in family business or farm 77: Refused 99: Don't know\n",
    "\n",
    "OCQ380: Main reason did not work last week 1: Taking care of house or family 2: Going to school 3: retired 4: unable to work for health reasons 5: on layoff 6: disabled 7: other\n",
    "\n",
    "OCD150: Type of work done last week 1: working at a job or business 2: with a job or business but not at work 3: looking for work 4: not working at a job or business\n",
    "\n",
    "OCD395: Duration of longest job (months) 1-720: range of values 0: less than one month\n",
    "\n",
    "\n",
    "\n"
   ]
  },
  {
   "cell_type": "code",
   "execution_count": 26,
   "metadata": {},
   "outputs": [
    {
     "name": "stdout",
     "output_type": "stream",
     "text": [
      "       OCQ260  OCQ380\n",
      "0         NaN     3.0\n",
      "1         1.0     NaN\n",
      "2         NaN     3.0\n",
      "3         NaN     NaN\n",
      "4         NaN     4.0\n",
      "...       ...     ...\n",
      "10170     1.0     NaN\n",
      "10171     NaN     NaN\n",
      "10172     1.0     NaN\n",
      "10173     NaN     NaN\n",
      "10174     NaN     NaN\n",
      "\n",
      "[10175 rows x 2 columns]\n"
     ]
    }
   ],
   "source": [
    "#Grab the occupation data from the questionarre \n",
    "filter_col = [col for col in quest if col.startswith('OCQ')]\n",
    "filter_col.extend([col for col in quest if col.startswith('OCD')])\n",
    "occ = quest[filter_col]\n",
    "occ = occ[['OCQ260', 'OCQ380']]\n",
    "print(occ)"
   ]
  },
  {
   "cell_type": "markdown",
   "metadata": {},
   "source": [
    "Like we did with the demographic data set, we will rename the columns of the occupation dataframe as well"
   ]
  },
  {
   "cell_type": "code",
   "execution_count": 27,
   "metadata": {},
   "outputs": [],
   "source": [
    "#Description of Job / Work situation\n",
    "occ['OCQ260'] = occ['OCQ260'].replace(77, np.NaN)\n",
    "occ['OCQ260'] = occ['OCQ260'].replace(1, \"Business Employee\")\n",
    "occ['OCQ260'] = occ['OCQ260'].replace(2, 'Federal Gov.')\n",
    "occ['OCQ260'] = occ['OCQ260'].replace(3, 'State Gov.')\n",
    "occ['OCQ260'] = occ['OCQ260'].replace(4, 'Local Gov.')\n",
    "occ['OCQ260'] = occ['OCQ260'].replace(5, 'Self-Employed')\n",
    "occ['OCQ260'] = occ['OCQ260'].replace(6, 'Family Business / Farm')\n",
    "\n",
    "\n",
    "#Reason not working\n",
    "occ['OCQ380'] = occ['OCQ380'].replace(77, np.NaN)  \n",
    "occ['OCQ380'] = occ['OCQ380'].replace(1, 'Care of House')\n",
    "occ['OCQ380'] = occ['OCQ380'].replace(2, 'Going to School')\n",
    "occ['OCQ380'] = occ['OCQ380'].replace(3, 'Retired')\n",
    "occ['OCQ380'] = occ['OCQ380'].replace(4, 'Health Reasons')\n",
    "occ['OCQ380'] = occ['OCQ380'].replace(5, 'Lay-off')\n",
    "occ['OCQ380'] = occ['OCQ380'].replace(6, 'Disabled')\n",
    "occ['OCQ380'] = occ['OCQ380'].replace(7, 'Other')\n"
   ]
  },
  {
   "cell_type": "code",
   "execution_count": 28,
   "metadata": {},
   "outputs": [
    {
     "data": {
      "text/html": [
       "<div>\n",
       "<style scoped>\n",
       "    .dataframe tbody tr th:only-of-type {\n",
       "        vertical-align: middle;\n",
       "    }\n",
       "\n",
       "    .dataframe tbody tr th {\n",
       "        vertical-align: top;\n",
       "    }\n",
       "\n",
       "    .dataframe thead th {\n",
       "        text-align: right;\n",
       "    }\n",
       "</style>\n",
       "<table border=\"1\" class=\"dataframe\">\n",
       "  <thead>\n",
       "    <tr style=\"text-align: right;\">\n",
       "      <th></th>\n",
       "      <th>OCQ260</th>\n",
       "      <th>OCQ380</th>\n",
       "    </tr>\n",
       "  </thead>\n",
       "  <tbody>\n",
       "    <tr>\n",
       "      <th>0</th>\n",
       "      <td>NaN</td>\n",
       "      <td>Retired</td>\n",
       "    </tr>\n",
       "    <tr>\n",
       "      <th>1</th>\n",
       "      <td>Business Employee</td>\n",
       "      <td>NaN</td>\n",
       "    </tr>\n",
       "    <tr>\n",
       "      <th>2</th>\n",
       "      <td>NaN</td>\n",
       "      <td>Retired</td>\n",
       "    </tr>\n",
       "    <tr>\n",
       "      <th>3</th>\n",
       "      <td>NaN</td>\n",
       "      <td>NaN</td>\n",
       "    </tr>\n",
       "    <tr>\n",
       "      <th>4</th>\n",
       "      <td>NaN</td>\n",
       "      <td>Health Reasons</td>\n",
       "    </tr>\n",
       "    <tr>\n",
       "      <th>...</th>\n",
       "      <td>...</td>\n",
       "      <td>...</td>\n",
       "    </tr>\n",
       "    <tr>\n",
       "      <th>10170</th>\n",
       "      <td>Business Employee</td>\n",
       "      <td>NaN</td>\n",
       "    </tr>\n",
       "    <tr>\n",
       "      <th>10171</th>\n",
       "      <td>NaN</td>\n",
       "      <td>NaN</td>\n",
       "    </tr>\n",
       "    <tr>\n",
       "      <th>10172</th>\n",
       "      <td>Business Employee</td>\n",
       "      <td>NaN</td>\n",
       "    </tr>\n",
       "    <tr>\n",
       "      <th>10173</th>\n",
       "      <td>NaN</td>\n",
       "      <td>NaN</td>\n",
       "    </tr>\n",
       "    <tr>\n",
       "      <th>10174</th>\n",
       "      <td>NaN</td>\n",
       "      <td>NaN</td>\n",
       "    </tr>\n",
       "  </tbody>\n",
       "</table>\n",
       "<p>10175 rows × 2 columns</p>\n",
       "</div>"
      ],
      "text/plain": [
       "                  OCQ260          OCQ380\n",
       "0                    NaN         Retired\n",
       "1      Business Employee             NaN\n",
       "2                    NaN         Retired\n",
       "3                    NaN             NaN\n",
       "4                    NaN  Health Reasons\n",
       "...                  ...             ...\n",
       "10170  Business Employee             NaN\n",
       "10171                NaN             NaN\n",
       "10172  Business Employee             NaN\n",
       "10173                NaN             NaN\n",
       "10174                NaN             NaN\n",
       "\n",
       "[10175 rows x 2 columns]"
      ]
     },
     "execution_count": 28,
     "metadata": {},
     "output_type": "execute_result"
    }
   ],
   "source": [
    "occ"
   ]
  },
  {
   "cell_type": "markdown",
   "metadata": {},
   "source": [
    "Here, we extract the access to care data by pulling columns with codes corresponding to care access information. The codes of interest are below:\n",
    "\n",
    "HUQ010: General Health Condition\n",
    "    1: excellent\n",
    "    2: very good\n",
    "    3: good\n",
    "    4: fair\n",
    "    5: poor\n",
    "   \n",
    "HUQ030: Routine place to go for healthcare?\n",
    "    1: yes\n",
    "    2: there is no place\n",
    "    3: there is more than one place\n",
    "   \n",
    "HUQ041: Type of place most often go for healthcare\n",
    "    1: clinic or health center\n",
    "    2: doctors office or HMO\n",
    "    3: hospital emergency room\n",
    "    4: hospital outpatient department\n",
    "    5: some other place\n",
    "    6: doesnt go to one place most often\n",
    "   \n",
    "HUQ051: # times receive healthcare over past year\n",
    "    0: none\n",
    "    1: 1\n",
    "    2: 2-3\n",
    "    3: 4-5\n",
    "    4: 6-7\n",
    "    5: 8-9\n",
    "    6: 10-12\n",
    "    7: 13-15\n",
    "    8: 16 or more\n",
    "   \n",
    "HUQ061: how long since last healthcare visit?\n",
    "    1: 6 months or less\n",
    "    2: 6 months-1yr\n",
    "    3: 1-2 yr\n",
    "    4: 2-5 yr\n",
    "    5: more than 5 years\n",
    "    6: never\n",
    "   \n",
    "HUQ090: seen mental health professional in last year?\n",
    "    1: yes\n",
    "    2: no\n",
    "\n",
    "\n",
    "\n"
   ]
  },
  {
   "cell_type": "code",
   "execution_count": 29,
   "metadata": {},
   "outputs": [
    {
     "data": {
      "text/html": [
       "<div>\n",
       "<style scoped>\n",
       "    .dataframe tbody tr th:only-of-type {\n",
       "        vertical-align: middle;\n",
       "    }\n",
       "\n",
       "    .dataframe tbody tr th {\n",
       "        vertical-align: top;\n",
       "    }\n",
       "\n",
       "    .dataframe thead th {\n",
       "        text-align: right;\n",
       "    }\n",
       "</style>\n",
       "<table border=\"1\" class=\"dataframe\">\n",
       "  <thead>\n",
       "    <tr style=\"text-align: right;\">\n",
       "      <th></th>\n",
       "      <th>HUQ010</th>\n",
       "      <th>HUQ041</th>\n",
       "      <th>HUQ051</th>\n",
       "      <th>HUQ061</th>\n",
       "      <th>HUQ090</th>\n",
       "    </tr>\n",
       "  </thead>\n",
       "  <tbody>\n",
       "    <tr>\n",
       "      <th>0</th>\n",
       "      <td>2</td>\n",
       "      <td>2.0</td>\n",
       "      <td>5</td>\n",
       "      <td>NaN</td>\n",
       "      <td>2.0</td>\n",
       "    </tr>\n",
       "    <tr>\n",
       "      <th>1</th>\n",
       "      <td>4</td>\n",
       "      <td>2.0</td>\n",
       "      <td>5</td>\n",
       "      <td>NaN</td>\n",
       "      <td>2.0</td>\n",
       "    </tr>\n",
       "    <tr>\n",
       "      <th>2</th>\n",
       "      <td>3</td>\n",
       "      <td>2.0</td>\n",
       "      <td>2</td>\n",
       "      <td>NaN</td>\n",
       "      <td>2.0</td>\n",
       "    </tr>\n",
       "    <tr>\n",
       "      <th>3</th>\n",
       "      <td>2</td>\n",
       "      <td>NaN</td>\n",
       "      <td>1</td>\n",
       "      <td>NaN</td>\n",
       "      <td>2.0</td>\n",
       "    </tr>\n",
       "    <tr>\n",
       "      <th>4</th>\n",
       "      <td>5</td>\n",
       "      <td>2.0</td>\n",
       "      <td>4</td>\n",
       "      <td>NaN</td>\n",
       "      <td>2.0</td>\n",
       "    </tr>\n",
       "    <tr>\n",
       "      <th>...</th>\n",
       "      <td>...</td>\n",
       "      <td>...</td>\n",
       "      <td>...</td>\n",
       "      <td>...</td>\n",
       "      <td>...</td>\n",
       "    </tr>\n",
       "    <tr>\n",
       "      <th>10170</th>\n",
       "      <td>4</td>\n",
       "      <td>NaN</td>\n",
       "      <td>1</td>\n",
       "      <td>NaN</td>\n",
       "      <td>2.0</td>\n",
       "    </tr>\n",
       "    <tr>\n",
       "      <th>10171</th>\n",
       "      <td>2</td>\n",
       "      <td>2.0</td>\n",
       "      <td>0</td>\n",
       "      <td>2.0</td>\n",
       "      <td>NaN</td>\n",
       "    </tr>\n",
       "    <tr>\n",
       "      <th>10172</th>\n",
       "      <td>3</td>\n",
       "      <td>2.0</td>\n",
       "      <td>5</td>\n",
       "      <td>NaN</td>\n",
       "      <td>2.0</td>\n",
       "    </tr>\n",
       "    <tr>\n",
       "      <th>10173</th>\n",
       "      <td>1</td>\n",
       "      <td>2.0</td>\n",
       "      <td>0</td>\n",
       "      <td>2.0</td>\n",
       "      <td>2.0</td>\n",
       "    </tr>\n",
       "    <tr>\n",
       "      <th>10174</th>\n",
       "      <td>2</td>\n",
       "      <td>2.0</td>\n",
       "      <td>1</td>\n",
       "      <td>NaN</td>\n",
       "      <td>2.0</td>\n",
       "    </tr>\n",
       "  </tbody>\n",
       "</table>\n",
       "<p>10175 rows × 5 columns</p>\n",
       "</div>"
      ],
      "text/plain": [
       "       HUQ010  HUQ041  HUQ051  HUQ061  HUQ090\n",
       "0           2     2.0       5     NaN     2.0\n",
       "1           4     2.0       5     NaN     2.0\n",
       "2           3     2.0       2     NaN     2.0\n",
       "3           2     NaN       1     NaN     2.0\n",
       "4           5     2.0       4     NaN     2.0\n",
       "...       ...     ...     ...     ...     ...\n",
       "10170       4     NaN       1     NaN     2.0\n",
       "10171       2     2.0       0     2.0     NaN\n",
       "10172       3     2.0       5     NaN     2.0\n",
       "10173       1     2.0       0     2.0     2.0\n",
       "10174       2     2.0       1     NaN     2.0\n",
       "\n",
       "[10175 rows x 5 columns]"
      ]
     },
     "execution_count": 29,
     "metadata": {},
     "output_type": "execute_result"
    }
   ],
   "source": [
    "filter_col1 = [col for col in quest if col.startswith('HUQ')]\n",
    "filter_col1.extend([col for col in quest if col.startswith('HUD')])\n",
    "care = quest[filter_col1]\n",
    "care = care[['HUQ010', 'HUQ041', 'HUQ051', 'HUQ061', 'HUQ090']]\n",
    "care"
   ]
  },
  {
   "cell_type": "code",
   "execution_count": 30,
   "metadata": {},
   "outputs": [
    {
     "data": {
      "text/html": [
       "<div>\n",
       "<style scoped>\n",
       "    .dataframe tbody tr th:only-of-type {\n",
       "        vertical-align: middle;\n",
       "    }\n",
       "\n",
       "    .dataframe tbody tr th {\n",
       "        vertical-align: top;\n",
       "    }\n",
       "\n",
       "    .dataframe thead th {\n",
       "        text-align: right;\n",
       "    }\n",
       "</style>\n",
       "<table border=\"1\" class=\"dataframe\">\n",
       "  <thead>\n",
       "    <tr style=\"text-align: right;\">\n",
       "      <th></th>\n",
       "      <th>OCQ260</th>\n",
       "      <th>OCQ380</th>\n",
       "    </tr>\n",
       "  </thead>\n",
       "  <tbody>\n",
       "    <tr>\n",
       "      <th>count</th>\n",
       "      <td>3439</td>\n",
       "      <td>2815</td>\n",
       "    </tr>\n",
       "    <tr>\n",
       "      <th>unique</th>\n",
       "      <td>6</td>\n",
       "      <td>7</td>\n",
       "    </tr>\n",
       "    <tr>\n",
       "      <th>top</th>\n",
       "      <td>Business Employee</td>\n",
       "      <td>Retired</td>\n",
       "    </tr>\n",
       "    <tr>\n",
       "      <th>freq</th>\n",
       "      <td>2846</td>\n",
       "      <td>1113</td>\n",
       "    </tr>\n",
       "  </tbody>\n",
       "</table>\n",
       "</div>"
      ],
      "text/plain": [
       "                   OCQ260   OCQ380\n",
       "count                3439     2815\n",
       "unique                  6        7\n",
       "top     Business Employee  Retired\n",
       "freq                 2846     1113"
      ]
     },
     "execution_count": 30,
     "metadata": {},
     "output_type": "execute_result"
    }
   ],
   "source": [
    "#Visualize the statistic summary for the occupation data\n",
    "import warnings\n",
    "warnings.simplefilter(action='ignore', category=FutureWarning)\n",
    "summary_statistics = occ.describe()\n",
    "summary_statistics"
   ]
  },
  {
   "cell_type": "code",
   "execution_count": 31,
   "metadata": {},
   "outputs": [
    {
     "data": {
      "text/html": [
       "<div>\n",
       "<style scoped>\n",
       "    .dataframe tbody tr th:only-of-type {\n",
       "        vertical-align: middle;\n",
       "    }\n",
       "\n",
       "    .dataframe tbody tr th {\n",
       "        vertical-align: top;\n",
       "    }\n",
       "\n",
       "    .dataframe thead th {\n",
       "        text-align: right;\n",
       "    }\n",
       "</style>\n",
       "<table border=\"1\" class=\"dataframe\">\n",
       "  <thead>\n",
       "    <tr style=\"text-align: right;\">\n",
       "      <th></th>\n",
       "      <th>job_des</th>\n",
       "      <th>reason_no_work</th>\n",
       "    </tr>\n",
       "  </thead>\n",
       "  <tbody>\n",
       "    <tr>\n",
       "      <th>0</th>\n",
       "      <td>NaN</td>\n",
       "      <td>Retired</td>\n",
       "    </tr>\n",
       "    <tr>\n",
       "      <th>1</th>\n",
       "      <td>Business Employee</td>\n",
       "      <td>NaN</td>\n",
       "    </tr>\n",
       "    <tr>\n",
       "      <th>2</th>\n",
       "      <td>NaN</td>\n",
       "      <td>Retired</td>\n",
       "    </tr>\n",
       "    <tr>\n",
       "      <th>3</th>\n",
       "      <td>NaN</td>\n",
       "      <td>NaN</td>\n",
       "    </tr>\n",
       "    <tr>\n",
       "      <th>4</th>\n",
       "      <td>NaN</td>\n",
       "      <td>Health Reasons</td>\n",
       "    </tr>\n",
       "    <tr>\n",
       "      <th>...</th>\n",
       "      <td>...</td>\n",
       "      <td>...</td>\n",
       "    </tr>\n",
       "    <tr>\n",
       "      <th>10170</th>\n",
       "      <td>Business Employee</td>\n",
       "      <td>NaN</td>\n",
       "    </tr>\n",
       "    <tr>\n",
       "      <th>10171</th>\n",
       "      <td>NaN</td>\n",
       "      <td>NaN</td>\n",
       "    </tr>\n",
       "    <tr>\n",
       "      <th>10172</th>\n",
       "      <td>Business Employee</td>\n",
       "      <td>NaN</td>\n",
       "    </tr>\n",
       "    <tr>\n",
       "      <th>10173</th>\n",
       "      <td>NaN</td>\n",
       "      <td>NaN</td>\n",
       "    </tr>\n",
       "    <tr>\n",
       "      <th>10174</th>\n",
       "      <td>NaN</td>\n",
       "      <td>NaN</td>\n",
       "    </tr>\n",
       "  </tbody>\n",
       "</table>\n",
       "<p>10175 rows × 2 columns</p>\n",
       "</div>"
      ],
      "text/plain": [
       "                 job_des  reason_no_work\n",
       "0                    NaN         Retired\n",
       "1      Business Employee             NaN\n",
       "2                    NaN         Retired\n",
       "3                    NaN             NaN\n",
       "4                    NaN  Health Reasons\n",
       "...                  ...             ...\n",
       "10170  Business Employee             NaN\n",
       "10171                NaN             NaN\n",
       "10172  Business Employee             NaN\n",
       "10173                NaN             NaN\n",
       "10174                NaN             NaN\n",
       "\n",
       "[10175 rows x 2 columns]"
      ]
     },
     "execution_count": 31,
     "metadata": {},
     "output_type": "execute_result"
    }
   ],
   "source": [
    "#Rename the columns for occ\n",
    "occ.columns = ['job_des' , 'reason_no_work']\n",
    "occ"
   ]
  },
  {
   "cell_type": "code",
   "execution_count": 32,
   "metadata": {},
   "outputs": [
    {
     "data": {
      "text/html": [
       "<div>\n",
       "<style scoped>\n",
       "    .dataframe tbody tr th:only-of-type {\n",
       "        vertical-align: middle;\n",
       "    }\n",
       "\n",
       "    .dataframe tbody tr th {\n",
       "        vertical-align: top;\n",
       "    }\n",
       "\n",
       "    .dataframe thead th {\n",
       "        text-align: right;\n",
       "    }\n",
       "</style>\n",
       "<table border=\"1\" class=\"dataframe\">\n",
       "  <thead>\n",
       "    <tr style=\"text-align: right;\">\n",
       "      <th></th>\n",
       "      <th>HUQ010</th>\n",
       "      <th>HUQ041</th>\n",
       "      <th>HUQ051</th>\n",
       "      <th>HUQ061</th>\n",
       "      <th>HUQ090</th>\n",
       "    </tr>\n",
       "  </thead>\n",
       "  <tbody>\n",
       "    <tr>\n",
       "      <th>count</th>\n",
       "      <td>10170</td>\n",
       "      <td>8980</td>\n",
       "      <td>10164</td>\n",
       "      <td>1281</td>\n",
       "      <td>9005</td>\n",
       "    </tr>\n",
       "    <tr>\n",
       "      <th>unique</th>\n",
       "      <td>5</td>\n",
       "      <td>6</td>\n",
       "      <td>9</td>\n",
       "      <td>6</td>\n",
       "      <td>2</td>\n",
       "    </tr>\n",
       "    <tr>\n",
       "      <th>top</th>\n",
       "      <td>Good</td>\n",
       "      <td>Doctors Office</td>\n",
       "      <td>2-3</td>\n",
       "      <td>1-2 yrs</td>\n",
       "      <td>No</td>\n",
       "    </tr>\n",
       "    <tr>\n",
       "      <th>freq</th>\n",
       "      <td>3235</td>\n",
       "      <td>6735</td>\n",
       "      <td>3206</td>\n",
       "      <td>521</td>\n",
       "      <td>8271</td>\n",
       "    </tr>\n",
       "  </tbody>\n",
       "</table>\n",
       "</div>"
      ],
      "text/plain": [
       "       HUQ010          HUQ041 HUQ051   HUQ061 HUQ090\n",
       "count   10170            8980  10164     1281   9005\n",
       "unique      5               6      9        6      2\n",
       "top      Good  Doctors Office    2-3  1-2 yrs     No\n",
       "freq     3235            6735   3206      521   8271"
      ]
     },
     "execution_count": 32,
     "metadata": {},
     "output_type": "execute_result"
    }
   ],
   "source": [
    "#Replace integer encoded values with categorical titles\n",
    "\n",
    "#General Health Condition\n",
    "care['HUQ010'] = care['HUQ010'].replace(7, np.NaN)  \n",
    "care['HUQ010'] = care['HUQ010'].replace(9, np.NaN)\n",
    "care['HUQ010'] = care['HUQ010'].replace(1, 'Excellent')\n",
    "care['HUQ010'] = care['HUQ010'].replace(2, 'Very Good')\n",
    "care['HUQ010'] = care['HUQ010'].replace(3, 'Good')\n",
    "care['HUQ010'] = care['HUQ010'].replace(4, 'Fair')\n",
    "care['HUQ010'] = care['HUQ010'].replace(5, 'Poor')\n",
    "\n",
    "#Type of place to go for healthcare\n",
    "care['HUQ041'] = care['HUQ041'].replace(77, np.NaN)  \n",
    "care['HUQ041'] = care['HUQ041'].replace(1, 'Clinic or Health Center')\n",
    "care['HUQ041'] = care['HUQ041'].replace(2, 'Doctors Office')\n",
    "care['HUQ041'] = care['HUQ041'].replace(3, 'Emergency Room')\n",
    "care['HUQ041'] = care['HUQ041'].replace(4, 'Hospital Outpatient')\n",
    "care['HUQ041'] = care['HUQ041'].replace(5, 'Some other place')\n",
    "care['HUQ041'] = care['HUQ041'].replace(6, 'No place')\n",
    "\n",
    "#Number of time received health care over past year\n",
    "care['HUQ051'] = care['HUQ051'].replace(77, np.NaN)\n",
    "care['HUQ051'] = care['HUQ051'].replace(99, np.NaN)\n",
    "care['HUQ051'] = care['HUQ051'].replace(1, '1')\n",
    "care['HUQ051'] = care['HUQ051'].replace(2, '2-3')\n",
    "care['HUQ051'] = care['HUQ051'].replace(3, '4-5')\n",
    "care['HUQ051'] = care['HUQ051'].replace(4, '6-7')\n",
    "care['HUQ051'] = care['HUQ051'].replace(5, '8-9')\n",
    "care['HUQ051'] = care['HUQ051'].replace(6, '10-12')\n",
    "care['HUQ051'] = care['HUQ051'].replace(7, '13-15')\n",
    "care['HUQ051'] = care['HUQ051'].replace(8, '16 or more')\n",
    "\n",
    "#How long since last healthcare visit\n",
    "care['HUQ061'] = care['HUQ061'].replace(77, np.NaN)\n",
    "care['HUQ061'] = care['HUQ061'].replace(99, np.NaN)\n",
    "care['HUQ061'] = care['HUQ061'].replace(1, '6 months or <')\n",
    "care['HUQ061'] = care['HUQ061'].replace(2, '6mon - 1yr.')\n",
    "care['HUQ061'] = care['HUQ061'].replace(3, '1-2 yrs')\n",
    "care['HUQ061'] = care['HUQ061'].replace(4, '2-5 yrs')\n",
    "care['HUQ061'] = care['HUQ061'].replace(5, '>5 yrs')\n",
    "care['HUQ061'] = care['HUQ061'].replace(6, 'Never')\n",
    "\n",
    "#Seen mental health professional in last year? \n",
    "care['HUQ090'] = care['HUQ090'].replace(9, np.NaN)\n",
    "care['HUQ090'] = care['HUQ090'].replace(7, np.NaN)\n",
    "care['HUQ090'] = care['HUQ090'].replace(1, \"Yes\")\n",
    "care['HUQ090'] = care['HUQ090'].replace(2, 'No')\n",
    "\n",
    "\n",
    "summary_statistics1 = care.describe()\n",
    "summary_statistics1"
   ]
  },
  {
   "cell_type": "code",
   "execution_count": 33,
   "metadata": {},
   "outputs": [
    {
     "data": {
      "text/html": [
       "<div>\n",
       "<style scoped>\n",
       "    .dataframe tbody tr th:only-of-type {\n",
       "        vertical-align: middle;\n",
       "    }\n",
       "\n",
       "    .dataframe tbody tr th {\n",
       "        vertical-align: top;\n",
       "    }\n",
       "\n",
       "    .dataframe thead th {\n",
       "        text-align: right;\n",
       "    }\n",
       "</style>\n",
       "<table border=\"1\" class=\"dataframe\">\n",
       "  <thead>\n",
       "    <tr style=\"text-align: right;\">\n",
       "      <th></th>\n",
       "      <th>Health_Cond</th>\n",
       "      <th>routine_plc</th>\n",
       "      <th>num_care_yr</th>\n",
       "      <th>last_visit_time</th>\n",
       "      <th>Men_Health_doc?</th>\n",
       "    </tr>\n",
       "  </thead>\n",
       "  <tbody>\n",
       "    <tr>\n",
       "      <th>0</th>\n",
       "      <td>Very Good</td>\n",
       "      <td>Doctors Office</td>\n",
       "      <td>8-9</td>\n",
       "      <td>NaN</td>\n",
       "      <td>No</td>\n",
       "    </tr>\n",
       "    <tr>\n",
       "      <th>1</th>\n",
       "      <td>Fair</td>\n",
       "      <td>Doctors Office</td>\n",
       "      <td>8-9</td>\n",
       "      <td>NaN</td>\n",
       "      <td>No</td>\n",
       "    </tr>\n",
       "    <tr>\n",
       "      <th>2</th>\n",
       "      <td>Good</td>\n",
       "      <td>Doctors Office</td>\n",
       "      <td>2-3</td>\n",
       "      <td>NaN</td>\n",
       "      <td>No</td>\n",
       "    </tr>\n",
       "    <tr>\n",
       "      <th>3</th>\n",
       "      <td>Very Good</td>\n",
       "      <td>NaN</td>\n",
       "      <td>1</td>\n",
       "      <td>NaN</td>\n",
       "      <td>No</td>\n",
       "    </tr>\n",
       "    <tr>\n",
       "      <th>4</th>\n",
       "      <td>Poor</td>\n",
       "      <td>Doctors Office</td>\n",
       "      <td>6-7</td>\n",
       "      <td>NaN</td>\n",
       "      <td>No</td>\n",
       "    </tr>\n",
       "    <tr>\n",
       "      <th>...</th>\n",
       "      <td>...</td>\n",
       "      <td>...</td>\n",
       "      <td>...</td>\n",
       "      <td>...</td>\n",
       "      <td>...</td>\n",
       "    </tr>\n",
       "    <tr>\n",
       "      <th>10170</th>\n",
       "      <td>Fair</td>\n",
       "      <td>NaN</td>\n",
       "      <td>1</td>\n",
       "      <td>NaN</td>\n",
       "      <td>No</td>\n",
       "    </tr>\n",
       "    <tr>\n",
       "      <th>10171</th>\n",
       "      <td>Very Good</td>\n",
       "      <td>Doctors Office</td>\n",
       "      <td>0</td>\n",
       "      <td>6mon - 1yr.</td>\n",
       "      <td>NaN</td>\n",
       "    </tr>\n",
       "    <tr>\n",
       "      <th>10172</th>\n",
       "      <td>Good</td>\n",
       "      <td>Doctors Office</td>\n",
       "      <td>8-9</td>\n",
       "      <td>NaN</td>\n",
       "      <td>No</td>\n",
       "    </tr>\n",
       "    <tr>\n",
       "      <th>10173</th>\n",
       "      <td>Excellent</td>\n",
       "      <td>Doctors Office</td>\n",
       "      <td>0</td>\n",
       "      <td>6mon - 1yr.</td>\n",
       "      <td>No</td>\n",
       "    </tr>\n",
       "    <tr>\n",
       "      <th>10174</th>\n",
       "      <td>Very Good</td>\n",
       "      <td>Doctors Office</td>\n",
       "      <td>1</td>\n",
       "      <td>NaN</td>\n",
       "      <td>No</td>\n",
       "    </tr>\n",
       "  </tbody>\n",
       "</table>\n",
       "<p>10175 rows × 5 columns</p>\n",
       "</div>"
      ],
      "text/plain": [
       "      Health_Cond     routine_plc num_care_yr last_visit_time Men_Health_doc?\n",
       "0       Very Good  Doctors Office         8-9             NaN              No\n",
       "1            Fair  Doctors Office         8-9             NaN              No\n",
       "2            Good  Doctors Office         2-3             NaN              No\n",
       "3       Very Good             NaN           1             NaN              No\n",
       "4            Poor  Doctors Office         6-7             NaN              No\n",
       "...           ...             ...         ...             ...             ...\n",
       "10170        Fair             NaN           1             NaN              No\n",
       "10171   Very Good  Doctors Office           0     6mon - 1yr.             NaN\n",
       "10172        Good  Doctors Office         8-9             NaN              No\n",
       "10173   Excellent  Doctors Office           0     6mon - 1yr.              No\n",
       "10174   Very Good  Doctors Office           1             NaN              No\n",
       "\n",
       "[10175 rows x 5 columns]"
      ]
     },
     "execution_count": 33,
     "metadata": {},
     "output_type": "execute_result"
    }
   ],
   "source": [
    "#Rename the care columns \n",
    "care.columns = ['Health_Cond', 'routine_plc', 'num_care_yr' , 'last_visit_time' , 'Men_Health_doc?']\n",
    "care"
   ]
  },
  {
   "cell_type": "markdown",
   "metadata": {},
   "source": [
    "In order to visualize the data we just grabbed, we create the plots below"
   ]
  },
  {
   "cell_type": "code",
   "execution_count": 34,
   "metadata": {},
   "outputs": [
    {
     "data": {
      "image/png": "[encoded data removed]",
      "text/plain": [
       "<Figure size 1080x1296 with 2 Axes>"
      ]
     },
     "metadata": {},
     "output_type": "display_data"
    }
   ],
   "source": [
    "figure, ax = plt.subplots(1, 2, figsize=(15, 18))\n",
    "ax1 = ax.reshape(2)\n",
    "\n",
    "Work_Sit = sns.countplot(occ['job_des'], ax=plt.subplot(2,1,1)).set_title(\"Work Situation\")\n",
    "\n",
    "No_Work = sns.countplot(occ['reason_no_work'], ax=plt.subplot(2,1,2)).set_title(\"Reason Not Working\")\n",
    "\n"
   ]
  },
  {
   "cell_type": "code",
   "execution_count": 35,
   "metadata": {},
   "outputs": [
    {
     "data": {
      "image/png": "[encoded data removed]",
      "text/plain": [
       "<Figure size 1800x2160 with 5 Axes>"
      ]
     },
     "metadata": {},
     "output_type": "display_data"
    }
   ],
   "source": [
    "figure, ax = plt.subplots(4, 2, figsize=(25, 30))\n",
    "ax1 = ax.reshape(8)\n",
    "\n",
    "Health = sns.countplot(care['Health_Cond'], ax=plt.subplot(4,2,1)).set_title(\"General Health Condition\")\n",
    "\n",
    "Routine = sns.countplot(care['routine_plc'], ax=plt.subplot(4,2,(3,4))).set_title(\"Routine Place for Care?\")\n",
    "\n",
    "Number = sns.countplot(care['num_care_yr'], ax=plt.subplot(4,2,(5,6))).set_title(\"Number Times Received Care in Last Year\")\n",
    "\n",
    "Last_visit = sns.countplot(care['last_visit_time'], ax=plt.subplot(4,2,(7,8))).set_title(\"Time Since Last Healthcare Visit\")\n",
    "\n",
    "Mental = sns.countplot(care['Men_Health_doc?'], ax=plt.subplot(4,2,2)).set_title(\"Mental Health Professional in Last Month?\")\n",
    "\n",
    "figure.savefig('Health_Figure.png')"
   ]
  },
  {
   "cell_type": "code",
   "execution_count": 36,
   "metadata": {},
   "outputs": [
    {
     "data": {
      "text/plain": [
       "<matplotlib.legend.Legend at 0x7f70e6d8e1f0>"
      ]
     },
     "execution_count": 36,
     "metadata": {},
     "output_type": "execute_result"
    },
    {
     "data": {
      "image/png": "[encoded data removed]",
      "text/plain": [
       "<Figure size 432x288 with 1 Axes>"
      ]
     },
     "metadata": {},
     "output_type": "display_data"
    }
   ],
   "source": [
    "df = pd.crosstab(demo['Income'], care['routine_plc'],normalize= 'index')\n",
    "ax = df.plot.barh(stacked=True)\n",
    "ax.legend(bbox_to_anchor=(1.05, 1), loc='upper left', borderaxespad=0.)"
   ]
  },
  {
   "cell_type": "code",
   "execution_count": 37,
   "metadata": {},
   "outputs": [
    {
     "data": {
      "text/plain": [
       "<matplotlib.legend.Legend at 0x7f70e4baca60>"
      ]
     },
     "execution_count": 37,
     "metadata": {},
     "output_type": "execute_result"
    },
    {
     "data": {
      "image/png": "[encoded data removed]",
      "text/plain": [
       "<Figure size 432x288 with 1 Axes>"
      ]
     },
     "metadata": {},
     "output_type": "display_data"
    }
   ],
   "source": [
    "df = pd.crosstab(demo['Income'], care['Health_Cond'],normalize= 'index')\n",
    "ax = df.plot.barh(stacked=True)\n",
    "ax.legend(bbox_to_anchor=(1.05, 1), loc='upper left', borderaxespad=0.)"
   ]
  },
  {
   "cell_type": "code",
   "execution_count": 38,
   "metadata": {},
   "outputs": [
    {
     "data": {
      "text/plain": [
       "<matplotlib.legend.Legend at 0x7f711443fd00>"
      ]
     },
     "execution_count": 38,
     "metadata": {},
     "output_type": "execute_result"
    },
    {
     "data": {
      "image/png": "[encoded data removed]",
      "text/plain": [
       "<Figure size 432x288 with 1 Axes>"
      ]
     },
     "metadata": {},
     "output_type": "display_data"
    }
   ],
   "source": [
    "df = pd.crosstab(demo['Race'], care['routine_plc'],normalize= 'index')\n",
    "ax = df.plot.barh(stacked=True)\n",
    "ax.legend(bbox_to_anchor=(1.05, 1), loc='upper left', borderaxespad=0.)"
   ]
  },
  {
   "cell_type": "code",
   "execution_count": 39,
   "metadata": {},
   "outputs": [
    {
     "data": {
      "text/html": [
       "<div>\n",
       "<style scoped>\n",
       "    .dataframe tbody tr th:only-of-type {\n",
       "        vertical-align: middle;\n",
       "    }\n",
       "\n",
       "    .dataframe tbody tr th {\n",
       "        vertical-align: top;\n",
       "    }\n",
       "\n",
       "    .dataframe thead th {\n",
       "        text-align: right;\n",
       "    }\n",
       "</style>\n",
       "<table border=\"1\" class=\"dataframe\">\n",
       "  <thead>\n",
       "    <tr style=\"text-align: right;\">\n",
       "      <th></th>\n",
       "      <th>HIQ011</th>\n",
       "      <th>HIQ031A</th>\n",
       "      <th>HIQ031B</th>\n",
       "    </tr>\n",
       "  </thead>\n",
       "  <tbody>\n",
       "    <tr>\n",
       "      <th>0</th>\n",
       "      <td>1</td>\n",
       "      <td>NaN</td>\n",
       "      <td>15.0</td>\n",
       "    </tr>\n",
       "    <tr>\n",
       "      <th>1</th>\n",
       "      <td>2</td>\n",
       "      <td>NaN</td>\n",
       "      <td>NaN</td>\n",
       "    </tr>\n",
       "    <tr>\n",
       "      <th>2</th>\n",
       "      <td>1</td>\n",
       "      <td>14.0</td>\n",
       "      <td>15.0</td>\n",
       "    </tr>\n",
       "    <tr>\n",
       "      <th>3</th>\n",
       "      <td>1</td>\n",
       "      <td>14.0</td>\n",
       "      <td>NaN</td>\n",
       "    </tr>\n",
       "    <tr>\n",
       "      <th>4</th>\n",
       "      <td>1</td>\n",
       "      <td>14.0</td>\n",
       "      <td>15.0</td>\n",
       "    </tr>\n",
       "    <tr>\n",
       "      <th>...</th>\n",
       "      <td>...</td>\n",
       "      <td>...</td>\n",
       "      <td>...</td>\n",
       "    </tr>\n",
       "    <tr>\n",
       "      <th>10170</th>\n",
       "      <td>2</td>\n",
       "      <td>NaN</td>\n",
       "      <td>NaN</td>\n",
       "    </tr>\n",
       "    <tr>\n",
       "      <th>10171</th>\n",
       "      <td>2</td>\n",
       "      <td>NaN</td>\n",
       "      <td>NaN</td>\n",
       "    </tr>\n",
       "    <tr>\n",
       "      <th>10172</th>\n",
       "      <td>1</td>\n",
       "      <td>14.0</td>\n",
       "      <td>NaN</td>\n",
       "    </tr>\n",
       "    <tr>\n",
       "      <th>10173</th>\n",
       "      <td>1</td>\n",
       "      <td>NaN</td>\n",
       "      <td>NaN</td>\n",
       "    </tr>\n",
       "    <tr>\n",
       "      <th>10174</th>\n",
       "      <td>1</td>\n",
       "      <td>14.0</td>\n",
       "      <td>NaN</td>\n",
       "    </tr>\n",
       "  </tbody>\n",
       "</table>\n",
       "<p>10175 rows × 3 columns</p>\n",
       "</div>"
      ],
      "text/plain": [
       "       HIQ011  HIQ031A  HIQ031B\n",
       "0           1      NaN     15.0\n",
       "1           2      NaN      NaN\n",
       "2           1     14.0     15.0\n",
       "3           1     14.0      NaN\n",
       "4           1     14.0     15.0\n",
       "...       ...      ...      ...\n",
       "10170       2      NaN      NaN\n",
       "10171       2      NaN      NaN\n",
       "10172       1     14.0      NaN\n",
       "10173       1      NaN      NaN\n",
       "10174       1     14.0      NaN\n",
       "\n",
       "[10175 rows x 3 columns]"
      ]
     },
     "execution_count": 39,
     "metadata": {},
     "output_type": "execute_result"
    }
   ],
   "source": [
    "#Insurance info\n",
    "insure = quest[['HIQ011', 'HIQ031A', 'HIQ031B']]\n",
    "insure"
   ]
  },
  {
   "cell_type": "code",
   "execution_count": 40,
   "metadata": {},
   "outputs": [],
   "source": [
    "\n",
    "warnings.simplefilter(action='ignore', category=FutureWarning)"
   ]
  },
  {
   "cell_type": "code",
   "execution_count": 41,
   "metadata": {},
   "outputs": [
    {
     "name": "stderr",
     "output_type": "stream",
     "text": [
      "<ipython-input-41-a841bb068ce4>:3: SettingWithCopyWarning: \n",
      "A value is trying to be set on a copy of a slice from a DataFrame.\n",
      "Try using .loc[row_indexer,col_indexer] = value instead\n",
      "\n",
      "See the caveats in the documentation: https://pandas.pydata.org/pandas-docs/stable/user_guide/indexing.html#returning-a-view-versus-a-copy\n",
      "  insure['HIQ011'] = insure['HIQ011'].replace(7, np.NaN)\n",
      "<ipython-input-41-a841bb068ce4>:4: SettingWithCopyWarning: \n",
      "A value is trying to be set on a copy of a slice from a DataFrame.\n",
      "Try using .loc[row_indexer,col_indexer] = value instead\n",
      "\n",
      "See the caveats in the documentation: https://pandas.pydata.org/pandas-docs/stable/user_guide/indexing.html#returning-a-view-versus-a-copy\n",
      "  insure['HIQ011'] = insure['HIQ011'].replace(9, np.NaN)\n",
      "<ipython-input-41-a841bb068ce4>:5: SettingWithCopyWarning: \n",
      "A value is trying to be set on a copy of a slice from a DataFrame.\n",
      "Try using .loc[row_indexer,col_indexer] = value instead\n",
      "\n",
      "See the caveats in the documentation: https://pandas.pydata.org/pandas-docs/stable/user_guide/indexing.html#returning-a-view-versus-a-copy\n",
      "  insure['HIQ011'] = insure['HIQ011'].replace(1, \"Yes\")\n",
      "<ipython-input-41-a841bb068ce4>:6: SettingWithCopyWarning: \n",
      "A value is trying to be set on a copy of a slice from a DataFrame.\n",
      "Try using .loc[row_indexer,col_indexer] = value instead\n",
      "\n",
      "See the caveats in the documentation: https://pandas.pydata.org/pandas-docs/stable/user_guide/indexing.html#returning-a-view-versus-a-copy\n",
      "  insure['HIQ011'] = insure['HIQ011'].replace(2, \"No\")\n",
      "<ipython-input-41-a841bb068ce4>:9: SettingWithCopyWarning: \n",
      "A value is trying to be set on a copy of a slice from a DataFrame.\n",
      "Try using .loc[row_indexer,col_indexer] = value instead\n",
      "\n",
      "See the caveats in the documentation: https://pandas.pydata.org/pandas-docs/stable/user_guide/indexing.html#returning-a-view-versus-a-copy\n",
      "  insure['HIQ031A'] = insure['HIQ031A'].replace(77, np.NaN)\n",
      "<ipython-input-41-a841bb068ce4>:10: SettingWithCopyWarning: \n",
      "A value is trying to be set on a copy of a slice from a DataFrame.\n",
      "Try using .loc[row_indexer,col_indexer] = value instead\n",
      "\n",
      "See the caveats in the documentation: https://pandas.pydata.org/pandas-docs/stable/user_guide/indexing.html#returning-a-view-versus-a-copy\n",
      "  insure['HIQ031A'] = insure['HIQ031A'].replace(99, np.NaN)\n",
      "<ipython-input-41-a841bb068ce4>:11: SettingWithCopyWarning: \n",
      "A value is trying to be set on a copy of a slice from a DataFrame.\n",
      "Try using .loc[row_indexer,col_indexer] = value instead\n",
      "\n",
      "See the caveats in the documentation: https://pandas.pydata.org/pandas-docs/stable/user_guide/indexing.html#returning-a-view-versus-a-copy\n",
      "  insure['HIQ031A'] = insure['HIQ031A'].replace(14, \"Yes\")\n",
      "<ipython-input-41-a841bb068ce4>:14: SettingWithCopyWarning: \n",
      "A value is trying to be set on a copy of a slice from a DataFrame.\n",
      "Try using .loc[row_indexer,col_indexer] = value instead\n",
      "\n",
      "See the caveats in the documentation: https://pandas.pydata.org/pandas-docs/stable/user_guide/indexing.html#returning-a-view-versus-a-copy\n",
      "  insure['HIQ031B'] = insure['HIQ031B'].replace(15, \"Yes\")\n"
     ]
    }
   ],
   "source": [
    "#Covered by health insurance?\n",
    "\n",
    "insure['HIQ011'] = insure['HIQ011'].replace(7, np.NaN)\n",
    "insure['HIQ011'] = insure['HIQ011'].replace(9, np.NaN)\n",
    "insure['HIQ011'] = insure['HIQ011'].replace(1, \"Yes\")\n",
    "insure['HIQ011'] = insure['HIQ011'].replace(2, \"No\")\n",
    "\n",
    "#Covered by Private Insurance? \n",
    "insure['HIQ031A'] = insure['HIQ031A'].replace(77, np.NaN)\n",
    "insure['HIQ031A'] = insure['HIQ031A'].replace(99, np.NaN)\n",
    "insure['HIQ031A'] = insure['HIQ031A'].replace(14, \"Yes\")\n",
    "\n",
    "#Covered by Medicare?\n",
    "insure['HIQ031B'] = insure['HIQ031B'].replace(15, \"Yes\")\n",
    "\n",
    "\n"
   ]
  },
  {
   "cell_type": "code",
   "execution_count": 42,
   "metadata": {},
   "outputs": [
    {
     "data": {
      "text/html": [
       "<div>\n",
       "<style scoped>\n",
       "    .dataframe tbody tr th:only-of-type {\n",
       "        vertical-align: middle;\n",
       "    }\n",
       "\n",
       "    .dataframe tbody tr th {\n",
       "        vertical-align: top;\n",
       "    }\n",
       "\n",
       "    .dataframe thead th {\n",
       "        text-align: right;\n",
       "    }\n",
       "</style>\n",
       "<table border=\"1\" class=\"dataframe\">\n",
       "  <thead>\n",
       "    <tr style=\"text-align: right;\">\n",
       "      <th></th>\n",
       "      <th>HIQ011</th>\n",
       "      <th>HIQ031A</th>\n",
       "      <th>HIQ031B</th>\n",
       "    </tr>\n",
       "  </thead>\n",
       "  <tbody>\n",
       "    <tr>\n",
       "      <th>0</th>\n",
       "      <td>Yes</td>\n",
       "      <td>NaN</td>\n",
       "      <td>Yes</td>\n",
       "    </tr>\n",
       "    <tr>\n",
       "      <th>1</th>\n",
       "      <td>No</td>\n",
       "      <td>NaN</td>\n",
       "      <td>NaN</td>\n",
       "    </tr>\n",
       "    <tr>\n",
       "      <th>2</th>\n",
       "      <td>Yes</td>\n",
       "      <td>Yes</td>\n",
       "      <td>Yes</td>\n",
       "    </tr>\n",
       "    <tr>\n",
       "      <th>3</th>\n",
       "      <td>Yes</td>\n",
       "      <td>Yes</td>\n",
       "      <td>NaN</td>\n",
       "    </tr>\n",
       "    <tr>\n",
       "      <th>4</th>\n",
       "      <td>Yes</td>\n",
       "      <td>Yes</td>\n",
       "      <td>Yes</td>\n",
       "    </tr>\n",
       "    <tr>\n",
       "      <th>...</th>\n",
       "      <td>...</td>\n",
       "      <td>...</td>\n",
       "      <td>...</td>\n",
       "    </tr>\n",
       "    <tr>\n",
       "      <th>10170</th>\n",
       "      <td>No</td>\n",
       "      <td>NaN</td>\n",
       "      <td>NaN</td>\n",
       "    </tr>\n",
       "    <tr>\n",
       "      <th>10171</th>\n",
       "      <td>No</td>\n",
       "      <td>NaN</td>\n",
       "      <td>NaN</td>\n",
       "    </tr>\n",
       "    <tr>\n",
       "      <th>10172</th>\n",
       "      <td>Yes</td>\n",
       "      <td>Yes</td>\n",
       "      <td>NaN</td>\n",
       "    </tr>\n",
       "    <tr>\n",
       "      <th>10173</th>\n",
       "      <td>Yes</td>\n",
       "      <td>NaN</td>\n",
       "      <td>NaN</td>\n",
       "    </tr>\n",
       "    <tr>\n",
       "      <th>10174</th>\n",
       "      <td>Yes</td>\n",
       "      <td>Yes</td>\n",
       "      <td>NaN</td>\n",
       "    </tr>\n",
       "  </tbody>\n",
       "</table>\n",
       "<p>10175 rows × 3 columns</p>\n",
       "</div>"
      ],
      "text/plain": [
       "      HIQ011 HIQ031A HIQ031B\n",
       "0        Yes     NaN     Yes\n",
       "1         No     NaN     NaN\n",
       "2        Yes     Yes     Yes\n",
       "3        Yes     Yes     NaN\n",
       "4        Yes     Yes     Yes\n",
       "...      ...     ...     ...\n",
       "10170     No     NaN     NaN\n",
       "10171     No     NaN     NaN\n",
       "10172    Yes     Yes     NaN\n",
       "10173    Yes     NaN     NaN\n",
       "10174    Yes     Yes     NaN\n",
       "\n",
       "[10175 rows x 3 columns]"
      ]
     },
     "execution_count": 42,
     "metadata": {},
     "output_type": "execute_result"
    }
   ],
   "source": [
    "insure"
   ]
  },
  {
   "cell_type": "code",
   "execution_count": 43,
   "metadata": {},
   "outputs": [
    {
     "data": {
      "text/html": [
       "<div>\n",
       "<style scoped>\n",
       "    .dataframe tbody tr th:only-of-type {\n",
       "        vertical-align: middle;\n",
       "    }\n",
       "\n",
       "    .dataframe tbody tr th {\n",
       "        vertical-align: top;\n",
       "    }\n",
       "\n",
       "    .dataframe thead th {\n",
       "        text-align: right;\n",
       "    }\n",
       "</style>\n",
       "<table border=\"1\" class=\"dataframe\">\n",
       "  <thead>\n",
       "    <tr style=\"text-align: right;\">\n",
       "      <th></th>\n",
       "      <th>Health Insurance?</th>\n",
       "      <th>Private Insurance?</th>\n",
       "      <th>Medicare?</th>\n",
       "    </tr>\n",
       "  </thead>\n",
       "  <tbody>\n",
       "    <tr>\n",
       "      <th>0</th>\n",
       "      <td>Yes</td>\n",
       "      <td>NaN</td>\n",
       "      <td>Yes</td>\n",
       "    </tr>\n",
       "    <tr>\n",
       "      <th>1</th>\n",
       "      <td>No</td>\n",
       "      <td>NaN</td>\n",
       "      <td>NaN</td>\n",
       "    </tr>\n",
       "    <tr>\n",
       "      <th>2</th>\n",
       "      <td>Yes</td>\n",
       "      <td>Yes</td>\n",
       "      <td>Yes</td>\n",
       "    </tr>\n",
       "    <tr>\n",
       "      <th>3</th>\n",
       "      <td>Yes</td>\n",
       "      <td>Yes</td>\n",
       "      <td>NaN</td>\n",
       "    </tr>\n",
       "    <tr>\n",
       "      <th>4</th>\n",
       "      <td>Yes</td>\n",
       "      <td>Yes</td>\n",
       "      <td>Yes</td>\n",
       "    </tr>\n",
       "    <tr>\n",
       "      <th>...</th>\n",
       "      <td>...</td>\n",
       "      <td>...</td>\n",
       "      <td>...</td>\n",
       "    </tr>\n",
       "    <tr>\n",
       "      <th>10170</th>\n",
       "      <td>No</td>\n",
       "      <td>NaN</td>\n",
       "      <td>NaN</td>\n",
       "    </tr>\n",
       "    <tr>\n",
       "      <th>10171</th>\n",
       "      <td>No</td>\n",
       "      <td>NaN</td>\n",
       "      <td>NaN</td>\n",
       "    </tr>\n",
       "    <tr>\n",
       "      <th>10172</th>\n",
       "      <td>Yes</td>\n",
       "      <td>Yes</td>\n",
       "      <td>NaN</td>\n",
       "    </tr>\n",
       "    <tr>\n",
       "      <th>10173</th>\n",
       "      <td>Yes</td>\n",
       "      <td>NaN</td>\n",
       "      <td>NaN</td>\n",
       "    </tr>\n",
       "    <tr>\n",
       "      <th>10174</th>\n",
       "      <td>Yes</td>\n",
       "      <td>Yes</td>\n",
       "      <td>NaN</td>\n",
       "    </tr>\n",
       "  </tbody>\n",
       "</table>\n",
       "<p>10175 rows × 3 columns</p>\n",
       "</div>"
      ],
      "text/plain": [
       "      Health Insurance? Private Insurance? Medicare?\n",
       "0                   Yes                NaN       Yes\n",
       "1                    No                NaN       NaN\n",
       "2                   Yes                Yes       Yes\n",
       "3                   Yes                Yes       NaN\n",
       "4                   Yes                Yes       Yes\n",
       "...                 ...                ...       ...\n",
       "10170                No                NaN       NaN\n",
       "10171                No                NaN       NaN\n",
       "10172               Yes                Yes       NaN\n",
       "10173               Yes                NaN       NaN\n",
       "10174               Yes                Yes       NaN\n",
       "\n",
       "[10175 rows x 3 columns]"
      ]
     },
     "execution_count": 43,
     "metadata": {},
     "output_type": "execute_result"
    }
   ],
   "source": [
    "insure.columns = ['Health Insurance?', 'Private Insurance?', 'Medicare?']\n",
    "insure"
   ]
  },
  {
   "cell_type": "code",
   "execution_count": 44,
   "metadata": {},
   "outputs": [
    {
     "data": {
      "image/png": "[encoded data removed]",
      "text/plain": [
       "<Figure size 432x288 with 1 Axes>"
      ]
     },
     "metadata": {},
     "output_type": "display_data"
    }
   ],
   "source": [
    "df = pd.crosstab(demo['Income'], insure['Health Insurance?'],normalize= 'index')\n",
    "ax = df.plot.barh(stacked=True)\n",
    "ax.legend(bbox_to_anchor=(1.05, 1), loc='upper left', borderaxespad=0.)\n",
    "plt.tight_layout()\n",
    "plt.savefig('Income_vs_Insurance.png')"
   ]
  },
  {
   "cell_type": "code",
   "execution_count": 45,
   "metadata": {},
   "outputs": [
    {
     "data": {
      "text/plain": [
       "<matplotlib.legend.Legend at 0x7f70e4c06340>"
      ]
     },
     "execution_count": 45,
     "metadata": {},
     "output_type": "execute_result"
    },
    {
     "data": {
      "image/png": "[encoded data removed]",
      "text/plain": [
       "<Figure size 432x288 with 1 Axes>"
      ]
     },
     "metadata": {},
     "output_type": "display_data"
    }
   ],
   "source": [
    "df = pd.crosstab(occ['job_des'], insure['Health Insurance?'],normalize= 'index')\n",
    "ax = df.plot.barh(stacked=True)\n",
    "ax.legend(bbox_to_anchor=(1.05, 1), loc='upper left', borderaxespad=0.)"
   ]
  },
  {
   "cell_type": "code",
   "execution_count": 46,
   "metadata": {},
   "outputs": [
    {
     "data": {
      "text/plain": [
       "<matplotlib.legend.Legend at 0x7f70e6d8e820>"
      ]
     },
     "execution_count": 46,
     "metadata": {},
     "output_type": "execute_result"
    },
    {
     "data": {
      "image/png": "[encoded data removed]",
      "text/plain": [
       "<Figure size 432x288 with 1 Axes>"
      ]
     },
     "metadata": {},
     "output_type": "display_data"
    }
   ],
   "source": [
    "df = pd.crosstab(insure['Health Insurance?'], care['Health_Cond'],normalize= 'index')\n",
    "ax = df.plot.barh(stacked=True)\n",
    "ax.legend(bbox_to_anchor=(1.05, 1), loc='upper left', borderaxespad=0.)"
   ]
  },
  {
   "cell_type": "code",
   "execution_count": 52,
   "metadata": {},
   "outputs": [
    {
     "data": {
      "image/png": "[encoded data removed]",
      "text/plain": [
       "<Figure size 432x288 with 1 Axes>"
      ]
     },
     "metadata": {},
     "output_type": "display_data"
    }
   ],
   "source": [
    "df = pd.crosstab(insure['Health Insurance?'], care['num_care_yr'],normalize= 'index')\n",
    "ax = df.plot.barh(stacked=True)\n",
    "ax.legend(bbox_to_anchor=(1.05, 1), loc='upper left', borderaxespad=0.)\n",
    "plt.tight_layout()\n",
    "plt.savefig(\"Insurance_vs_Care_Times.png\")"
   ]
  },
  {
   "cell_type": "code",
   "execution_count": 48,
   "metadata": {},
   "outputs": [],
   "source": [
    "demo.to_csv('../data/demographics.csv')"
   ]
  },
  {
   "cell_type": "code",
   "execution_count": 49,
   "metadata": {},
   "outputs": [],
   "source": [
    "#Save certain data to new dataframe for prediction model\n",
    "data = pd.DataFrame()\n",
    "data['income'] = demo[\"Income\"]  \n",
    "data['Health_Insure'] = insure['Health Insurance?'] \n",
    "data['Health_cond'] = care['Health_Cond']\n",
    "data['routine_plc']= care['routine_plc']\n",
    "data['num_care_yr'] = care['num_care_yr'] \n",
    "data['last_visit_time'] = care['last_visit_time']"
   ]
  },
  {
   "cell_type": "code",
   "execution_count": 50,
   "metadata": {},
   "outputs": [
    {
     "data": {
      "text/html": [
       "<div>\n",
       "<style scoped>\n",
       "    .dataframe tbody tr th:only-of-type {\n",
       "        vertical-align: middle;\n",
       "    }\n",
       "\n",
       "    .dataframe tbody tr th {\n",
       "        vertical-align: top;\n",
       "    }\n",
       "\n",
       "    .dataframe thead th {\n",
       "        text-align: right;\n",
       "    }\n",
       "</style>\n",
       "<table border=\"1\" class=\"dataframe\">\n",
       "  <thead>\n",
       "    <tr style=\"text-align: right;\">\n",
       "      <th></th>\n",
       "      <th>income</th>\n",
       "      <th>Health_Insure</th>\n",
       "      <th>Health_cond</th>\n",
       "      <th>routine_plc</th>\n",
       "      <th>num_care_yr</th>\n",
       "      <th>last_visit_time</th>\n",
       "    </tr>\n",
       "  </thead>\n",
       "  <tbody>\n",
       "    <tr>\n",
       "      <th>0</th>\n",
       "      <td>$15,000 to $19,999</td>\n",
       "      <td>Yes</td>\n",
       "      <td>Very Good</td>\n",
       "      <td>Doctors Office</td>\n",
       "      <td>8-9</td>\n",
       "      <td>NaN</td>\n",
       "    </tr>\n",
       "    <tr>\n",
       "      <th>1</th>\n",
       "      <td>$35,000 to $44,999</td>\n",
       "      <td>No</td>\n",
       "      <td>Fair</td>\n",
       "      <td>Doctors Office</td>\n",
       "      <td>8-9</td>\n",
       "      <td>NaN</td>\n",
       "    </tr>\n",
       "    <tr>\n",
       "      <th>2</th>\n",
       "      <td>$65,000 to $74,999</td>\n",
       "      <td>Yes</td>\n",
       "      <td>Good</td>\n",
       "      <td>Doctors Office</td>\n",
       "      <td>2-3</td>\n",
       "      <td>NaN</td>\n",
       "    </tr>\n",
       "    <tr>\n",
       "      <th>3</th>\n",
       "      <td>$55,000 to $64,999</td>\n",
       "      <td>Yes</td>\n",
       "      <td>Very Good</td>\n",
       "      <td>NaN</td>\n",
       "      <td>1</td>\n",
       "      <td>NaN</td>\n",
       "    </tr>\n",
       "    <tr>\n",
       "      <th>4</th>\n",
       "      <td>$100,000 and Over</td>\n",
       "      <td>Yes</td>\n",
       "      <td>Poor</td>\n",
       "      <td>Doctors Office</td>\n",
       "      <td>6-7</td>\n",
       "      <td>NaN</td>\n",
       "    </tr>\n",
       "    <tr>\n",
       "      <th>...</th>\n",
       "      <td>...</td>\n",
       "      <td>...</td>\n",
       "      <td>...</td>\n",
       "      <td>...</td>\n",
       "      <td>...</td>\n",
       "      <td>...</td>\n",
       "    </tr>\n",
       "    <tr>\n",
       "      <th>10170</th>\n",
       "      <td>NaN</td>\n",
       "      <td>No</td>\n",
       "      <td>Fair</td>\n",
       "      <td>NaN</td>\n",
       "      <td>1</td>\n",
       "      <td>NaN</td>\n",
       "    </tr>\n",
       "    <tr>\n",
       "      <th>10171</th>\n",
       "      <td>$45,000 to $54,999</td>\n",
       "      <td>No</td>\n",
       "      <td>Very Good</td>\n",
       "      <td>Doctors Office</td>\n",
       "      <td>0</td>\n",
       "      <td>6mon - 1yr.</td>\n",
       "    </tr>\n",
       "    <tr>\n",
       "      <th>10172</th>\n",
       "      <td>$35,000 to $44,999</td>\n",
       "      <td>Yes</td>\n",
       "      <td>Good</td>\n",
       "      <td>Doctors Office</td>\n",
       "      <td>8-9</td>\n",
       "      <td>NaN</td>\n",
       "    </tr>\n",
       "    <tr>\n",
       "      <th>10173</th>\n",
       "      <td>$25,000 to $34,999</td>\n",
       "      <td>Yes</td>\n",
       "      <td>Excellent</td>\n",
       "      <td>Doctors Office</td>\n",
       "      <td>0</td>\n",
       "      <td>6mon - 1yr.</td>\n",
       "    </tr>\n",
       "    <tr>\n",
       "      <th>10174</th>\n",
       "      <td>$100,000 and Over</td>\n",
       "      <td>Yes</td>\n",
       "      <td>Very Good</td>\n",
       "      <td>Doctors Office</td>\n",
       "      <td>1</td>\n",
       "      <td>NaN</td>\n",
       "    </tr>\n",
       "  </tbody>\n",
       "</table>\n",
       "<p>10175 rows × 6 columns</p>\n",
       "</div>"
      ],
      "text/plain": [
       "                   income Health_Insure Health_cond     routine_plc  \\\n",
       "0      $15,000 to $19,999           Yes   Very Good  Doctors Office   \n",
       "1      $35,000 to $44,999            No        Fair  Doctors Office   \n",
       "2      $65,000 to $74,999           Yes        Good  Doctors Office   \n",
       "3      $55,000 to $64,999           Yes   Very Good             NaN   \n",
       "4       $100,000 and Over           Yes        Poor  Doctors Office   \n",
       "...                   ...           ...         ...             ...   \n",
       "10170                 NaN            No        Fair             NaN   \n",
       "10171  $45,000 to $54,999            No   Very Good  Doctors Office   \n",
       "10172  $35,000 to $44,999           Yes        Good  Doctors Office   \n",
       "10173  $25,000 to $34,999           Yes   Excellent  Doctors Office   \n",
       "10174   $100,000 and Over           Yes   Very Good  Doctors Office   \n",
       "\n",
       "      num_care_yr last_visit_time  \n",
       "0             8-9             NaN  \n",
       "1             8-9             NaN  \n",
       "2             2-3             NaN  \n",
       "3               1             NaN  \n",
       "4             6-7             NaN  \n",
       "...           ...             ...  \n",
       "10170           1             NaN  \n",
       "10171           0     6mon - 1yr.  \n",
       "10172         8-9             NaN  \n",
       "10173           0     6mon - 1yr.  \n",
       "10174           1             NaN  \n",
       "\n",
       "[10175 rows x 6 columns]"
      ]
     },
     "execution_count": 50,
     "metadata": {},
     "output_type": "execute_result"
    }
   ],
   "source": [
    "data"
   ]
  },
  {
   "cell_type": "code",
   "execution_count": 51,
   "metadata": {},
   "outputs": [],
   "source": [
    "#Save data to cvs for future use\n",
    "data.to_csv('../data/all.csv')"
   ]
  }
 ],
 "metadata": {
  "kernelspec": {
   "display_name": "Python 3",
   "language": "python",
   "name": "python3"
  },
  "language_info": {
   "codemirror_mode": {
    "name": "ipython",
    "version": 3
   },
   "file_extension": ".py",
   "mimetype": "text/x-python",
   "name": "python",
   "nbconvert_exporter": "python",
   "pygments_lexer": "ipython3",
   "version": "3.8.3"
  }
 },
 "nbformat": 4,
 "nbformat_minor": 4
}
