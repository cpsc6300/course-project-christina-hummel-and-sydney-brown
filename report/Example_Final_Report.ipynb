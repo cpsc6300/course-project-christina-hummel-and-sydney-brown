{
 "cells": [
  {
   "cell_type": "markdown",
   "metadata": {},
   "source": [
    "# TITLE:\n",
    "## Team Members:\n",
    "## Date:"
   ]
  },
  {
   "cell_type": "markdown",
   "metadata": {},
   "source": [
    "# Probelm Statement and Motivation\n",
    "This should be a brief and self-contained decription of the problem that your project aims to solve and what motivated you to solve this problem."
   ]
  },
  {
   "cell_type": "markdown",
   "metadata": {},
   "source": [
    "!['metrics'](https://www.palmetto.clemson.edu/dsci/figures/ps04b_metrics.png)"
   ]
  },
  {
   "cell_type": "markdown",
   "metadata": {},
   "source": [
    "| Syntax      | Description |\n",
    "| ----------- | ----------- |\n",
    "| Header      | Title       |\n",
    "| Paragraph   | Text        |"
   ]
  },
  {
   "cell_type": "markdown",
   "metadata": {},
   "source": [
    "# Probelm Statement and Motivation\n",
    "This should be a brief and self-contained decription of the problem that your project aims to solve and what motivated you to solve this problem.\n",
    "\n",
    "# Introduction and Description of Data\n",
    "Description of relevant knowledge. Why is this problem important? Why is it challenging? Introduce the motivations for the project question and how that question was defined through preliminary EDA.\n",
    "\n",
    "# Literature Review/Related Work \n",
    "This could include noting any key papers, texts, or websites that you have used to develop your modeling approach, as well as what others have done on this problem in the past. You must properly credit sources.\n",
    "\n",
    "# Modeling Approach\n",
    "\n",
    "+ Describe the baseline model.\n",
    "+ Describe your implementations beyond the baseline model and the design choices that you have made.\n",
    "\n",
    "# Project Trajectory, Results, and Interpretation \n",
    "\n",
    "Briefly summarize any changes in your project goals or implementation plans you have made.\n",
    "These changes are a natural part of any project, even those that seem the most straightforward at the beginning.\n",
    "The story you tell about how you arrived at your results can powerfully illustrate your process. \n",
    "\n",
    "Next, show your results. How well does your model and/or implementation perform? Did you meet your goals?\n",
    "\n",
    "Finally, give some interpretation. What do your results mean? What impact will your work have?\n",
    "\n",
    "# Conclusions and Future Work\n",
    "Summarize your results, the strengths and short-comings of your results, and speculate on how you might address these short-comings if given more time.\n",
    "\n",
    "# References:\n",
    "This could include the revised key papers, texts, or websites that you may use to develop your project.\n",
    "\n",
    "# Support Materials\n",
    "Provide a list of materials that support your project, for example, the notebooks and data sources.\n",
    "\n",
    "# Declaration of academic integrity and responsibility\n",
    "\n",
    "In your report, you should include a declaration of academic integrity as follows:\n",
    "\n",
    "```\n",
    "With my signature, I certify on my honor that:\n",
    "\n",
    "The submitted work is my and my teammates' original work and not copied from the work of someone else.\n",
    "Each use of existing work of others in the submitted is cited with proper reference.\n",
    "Signature: ____________ Date: ______________\n",
    "```\n",
    "\n",
    "# Credit\n",
    "The above project template is based on a template developed by Harvard IACS CS109 staff (see https://github.com/Harvard-IACS/2019-CS109A/tree/master/content/projects)."
   ]
  },
  {
   "cell_type": "code",
   "execution_count": null,
   "metadata": {},
   "outputs": [],
   "source": []
  },
  {
   "cell_type": "code",
   "execution_count": null,
   "metadata": {},
   "outputs": [],
   "source": []
  }
 ],
 "metadata": {
  "kernelspec": {
   "display_name": "Python 3",
   "language": "python",
   "name": "python3"
  },
  "language_info": {
   "codemirror_mode": {
    "name": "ipython",
    "version": 3
   },
   "file_extension": ".py",
   "mimetype": "text/x-python",
   "name": "python",
   "nbconvert_exporter": "python",
   "pygments_lexer": "ipython3",
   "version": "3.8.3"
  }
 },
 "nbformat": 4,
 "nbformat_minor": 4
}
